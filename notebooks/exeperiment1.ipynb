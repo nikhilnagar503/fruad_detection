{
 "cells": [
  {
   "cell_type": "code",
   "execution_count": 1,
   "id": "2546cad5",
   "metadata": {},
   "outputs": [],
   "source": [
    "import pandas as pd\n",
    "import numpy as np\n",
    "import seaborn as sns\n",
    "import os\n",
    "from sklearn.impute import SimpleImputer\n",
    "from sklearn.preprocessing import OrdinalEncoder\n",
    "from sklearn.preprocessing import RobustScaler\n",
    "from sklearn.pipeline import Pipeline\n",
    "\n",
    "from sklearn.compose import ColumnTransformer\n",
    "\n"
   ]
  },
  {
   "cell_type": "code",
   "execution_count": null,
   "id": "eac8ffe8",
   "metadata": {},
   "outputs": [],
   "source": []
  },
  {
   "cell_type": "code",
   "execution_count": 2,
   "id": "57ab1efe",
   "metadata": {},
   "outputs": [],
   "source": [
    "df = pd.read_csv(\"C:\\\\Users\\\\nagar\\\\OneDrive\\\\Desktop\\\\unified mentor\\\\Projects\\\\fraud_detection\\\\fruad_detection\\\\notebooks\\\\Base.csv\")"
   ]
  },
  {
   "cell_type": "code",
   "execution_count": 3,
   "id": "b02b426c",
   "metadata": {},
   "outputs": [
    {
     "data": {
      "text/plain": [
       "(1000000, 32)"
      ]
     },
     "execution_count": 3,
     "metadata": {},
     "output_type": "execute_result"
    }
   ],
   "source": [
    "df.shape"
   ]
  },
  {
   "cell_type": "code",
   "execution_count": 4,
   "id": "d134ccb2",
   "metadata": {},
   "outputs": [
    {
     "data": {
      "text/html": [
       "<div>\n",
       "<style scoped>\n",
       "    .dataframe tbody tr th:only-of-type {\n",
       "        vertical-align: middle;\n",
       "    }\n",
       "\n",
       "    .dataframe tbody tr th {\n",
       "        vertical-align: top;\n",
       "    }\n",
       "\n",
       "    .dataframe thead th {\n",
       "        text-align: right;\n",
       "    }\n",
       "</style>\n",
       "<table border=\"1\" class=\"dataframe\">\n",
       "  <thead>\n",
       "    <tr style=\"text-align: right;\">\n",
       "      <th></th>\n",
       "      <th>fraud_bool</th>\n",
       "      <th>income</th>\n",
       "      <th>name_email_similarity</th>\n",
       "      <th>prev_address_months_count</th>\n",
       "      <th>current_address_months_count</th>\n",
       "      <th>customer_age</th>\n",
       "      <th>days_since_request</th>\n",
       "      <th>intended_balcon_amount</th>\n",
       "      <th>payment_type</th>\n",
       "      <th>zip_count_4w</th>\n",
       "      <th>velocity_6h</th>\n",
       "      <th>velocity_24h</th>\n",
       "      <th>velocity_4w</th>\n",
       "      <th>bank_branch_count_8w</th>\n",
       "      <th>date_of_birth_distinct_emails_4w</th>\n",
       "      <th>employment_status</th>\n",
       "      <th>credit_risk_score</th>\n",
       "      <th>email_is_free</th>\n",
       "      <th>housing_status</th>\n",
       "      <th>phone_home_valid</th>\n",
       "      <th>phone_mobile_valid</th>\n",
       "      <th>bank_months_count</th>\n",
       "      <th>has_other_cards</th>\n",
       "      <th>proposed_credit_limit</th>\n",
       "      <th>foreign_request</th>\n",
       "      <th>source</th>\n",
       "      <th>session_length_in_minutes</th>\n",
       "      <th>device_os</th>\n",
       "      <th>keep_alive_session</th>\n",
       "      <th>device_distinct_emails_8w</th>\n",
       "      <th>device_fraud_count</th>\n",
       "      <th>month</th>\n",
       "    </tr>\n",
       "  </thead>\n",
       "  <tbody>\n",
       "    <tr>\n",
       "      <th>0</th>\n",
       "      <td>0</td>\n",
       "      <td>0.3</td>\n",
       "      <td>0.986506</td>\n",
       "      <td>-1</td>\n",
       "      <td>25</td>\n",
       "      <td>40</td>\n",
       "      <td>0.006735</td>\n",
       "      <td>102.453711</td>\n",
       "      <td>AA</td>\n",
       "      <td>1059</td>\n",
       "      <td>13096.035018</td>\n",
       "      <td>7850.955007</td>\n",
       "      <td>6742.080561</td>\n",
       "      <td>5</td>\n",
       "      <td>5</td>\n",
       "      <td>CB</td>\n",
       "      <td>163</td>\n",
       "      <td>1</td>\n",
       "      <td>BC</td>\n",
       "      <td>0</td>\n",
       "      <td>1</td>\n",
       "      <td>9</td>\n",
       "      <td>0</td>\n",
       "      <td>1500.0</td>\n",
       "      <td>0</td>\n",
       "      <td>INTERNET</td>\n",
       "      <td>16.224843</td>\n",
       "      <td>linux</td>\n",
       "      <td>1</td>\n",
       "      <td>1</td>\n",
       "      <td>0</td>\n",
       "      <td>0</td>\n",
       "    </tr>\n",
       "    <tr>\n",
       "      <th>1</th>\n",
       "      <td>0</td>\n",
       "      <td>0.8</td>\n",
       "      <td>0.617426</td>\n",
       "      <td>-1</td>\n",
       "      <td>89</td>\n",
       "      <td>20</td>\n",
       "      <td>0.010095</td>\n",
       "      <td>-0.849551</td>\n",
       "      <td>AD</td>\n",
       "      <td>1658</td>\n",
       "      <td>9223.283431</td>\n",
       "      <td>5745.251481</td>\n",
       "      <td>5941.664859</td>\n",
       "      <td>3</td>\n",
       "      <td>18</td>\n",
       "      <td>CA</td>\n",
       "      <td>154</td>\n",
       "      <td>1</td>\n",
       "      <td>BC</td>\n",
       "      <td>1</td>\n",
       "      <td>1</td>\n",
       "      <td>2</td>\n",
       "      <td>0</td>\n",
       "      <td>1500.0</td>\n",
       "      <td>0</td>\n",
       "      <td>INTERNET</td>\n",
       "      <td>3.363854</td>\n",
       "      <td>other</td>\n",
       "      <td>1</td>\n",
       "      <td>1</td>\n",
       "      <td>0</td>\n",
       "      <td>0</td>\n",
       "    </tr>\n",
       "    <tr>\n",
       "      <th>2</th>\n",
       "      <td>0</td>\n",
       "      <td>0.8</td>\n",
       "      <td>0.996707</td>\n",
       "      <td>9</td>\n",
       "      <td>14</td>\n",
       "      <td>40</td>\n",
       "      <td>0.012316</td>\n",
       "      <td>-1.490386</td>\n",
       "      <td>AB</td>\n",
       "      <td>1095</td>\n",
       "      <td>4471.472149</td>\n",
       "      <td>5471.988958</td>\n",
       "      <td>5992.555113</td>\n",
       "      <td>15</td>\n",
       "      <td>11</td>\n",
       "      <td>CA</td>\n",
       "      <td>89</td>\n",
       "      <td>1</td>\n",
       "      <td>BC</td>\n",
       "      <td>0</td>\n",
       "      <td>1</td>\n",
       "      <td>30</td>\n",
       "      <td>0</td>\n",
       "      <td>200.0</td>\n",
       "      <td>0</td>\n",
       "      <td>INTERNET</td>\n",
       "      <td>22.730559</td>\n",
       "      <td>windows</td>\n",
       "      <td>0</td>\n",
       "      <td>1</td>\n",
       "      <td>0</td>\n",
       "      <td>0</td>\n",
       "    </tr>\n",
       "    <tr>\n",
       "      <th>3</th>\n",
       "      <td>0</td>\n",
       "      <td>0.6</td>\n",
       "      <td>0.475100</td>\n",
       "      <td>11</td>\n",
       "      <td>14</td>\n",
       "      <td>30</td>\n",
       "      <td>0.006991</td>\n",
       "      <td>-1.863101</td>\n",
       "      <td>AB</td>\n",
       "      <td>3483</td>\n",
       "      <td>14431.993621</td>\n",
       "      <td>6755.344479</td>\n",
       "      <td>5970.336831</td>\n",
       "      <td>11</td>\n",
       "      <td>13</td>\n",
       "      <td>CA</td>\n",
       "      <td>90</td>\n",
       "      <td>1</td>\n",
       "      <td>BC</td>\n",
       "      <td>0</td>\n",
       "      <td>1</td>\n",
       "      <td>1</td>\n",
       "      <td>0</td>\n",
       "      <td>200.0</td>\n",
       "      <td>0</td>\n",
       "      <td>INTERNET</td>\n",
       "      <td>15.215816</td>\n",
       "      <td>linux</td>\n",
       "      <td>1</td>\n",
       "      <td>1</td>\n",
       "      <td>0</td>\n",
       "      <td>0</td>\n",
       "    </tr>\n",
       "    <tr>\n",
       "      <th>4</th>\n",
       "      <td>0</td>\n",
       "      <td>0.9</td>\n",
       "      <td>0.842307</td>\n",
       "      <td>-1</td>\n",
       "      <td>29</td>\n",
       "      <td>40</td>\n",
       "      <td>5.742626</td>\n",
       "      <td>47.152498</td>\n",
       "      <td>AA</td>\n",
       "      <td>2339</td>\n",
       "      <td>7601.511579</td>\n",
       "      <td>5124.046930</td>\n",
       "      <td>5940.734212</td>\n",
       "      <td>1</td>\n",
       "      <td>6</td>\n",
       "      <td>CA</td>\n",
       "      <td>91</td>\n",
       "      <td>0</td>\n",
       "      <td>BC</td>\n",
       "      <td>1</td>\n",
       "      <td>1</td>\n",
       "      <td>26</td>\n",
       "      <td>0</td>\n",
       "      <td>200.0</td>\n",
       "      <td>0</td>\n",
       "      <td>INTERNET</td>\n",
       "      <td>3.743048</td>\n",
       "      <td>other</td>\n",
       "      <td>0</td>\n",
       "      <td>1</td>\n",
       "      <td>0</td>\n",
       "      <td>0</td>\n",
       "    </tr>\n",
       "  </tbody>\n",
       "</table>\n",
       "</div>"
      ],
      "text/plain": [
       "   fraud_bool  income  ...  device_fraud_count  month\n",
       "0           0     0.3  ...                   0      0\n",
       "1           0     0.8  ...                   0      0\n",
       "2           0     0.8  ...                   0      0\n",
       "3           0     0.6  ...                   0      0\n",
       "4           0     0.9  ...                   0      0\n",
       "\n",
       "[5 rows x 32 columns]"
      ]
     },
     "execution_count": 4,
     "metadata": {},
     "output_type": "execute_result"
    }
   ],
   "source": [
    "df.head()"
   ]
  },
  {
   "cell_type": "code",
   "execution_count": 5,
   "id": "ac22a657",
   "metadata": {},
   "outputs": [
    {
     "data": {
      "text/plain": [
       "Index(['fraud_bool', 'income', 'name_email_similarity',\n",
       "       'prev_address_months_count', 'current_address_months_count',\n",
       "       'customer_age', 'days_since_request', 'intended_balcon_amount',\n",
       "       'payment_type', 'zip_count_4w', 'velocity_6h', 'velocity_24h',\n",
       "       'velocity_4w', 'bank_branch_count_8w',\n",
       "       'date_of_birth_distinct_emails_4w', 'employment_status',\n",
       "       'credit_risk_score', 'email_is_free', 'housing_status',\n",
       "       'phone_home_valid', 'phone_mobile_valid', 'bank_months_count',\n",
       "       'has_other_cards', 'proposed_credit_limit', 'foreign_request', 'source',\n",
       "       'session_length_in_minutes', 'device_os', 'keep_alive_session',\n",
       "       'device_distinct_emails_8w', 'device_fraud_count', 'month'],\n",
       "      dtype='object')"
      ]
     },
     "execution_count": 5,
     "metadata": {},
     "output_type": "execute_result"
    }
   ],
   "source": [
    "df.columns"
   ]
  },
  {
   "cell_type": "markdown",
   "id": "54db8fee",
   "metadata": {},
   "source": [
    "| **Feature Name**                  | **Meaning**                                                                 |\n",
    "|----------------------------------|------------------------------------------------------------------------------|\n",
    "| `fraud_bool`                     | 1 = fraud, 0 = not fraud. This is what your model will learn to predict.    |\n",
    "| `income`                         | The person’s income. Lower or very high income might show different fraud risk. |\n",
    "| `name_email_similarity`          | How similar the person’s name is to the email. Fake profiles often use mismatched names and emails. |\n",
    "| `prev_address_months_count`      | How long the person stayed at the previous address (in months). Fraudsters often change addresses quickly. |\n",
    "| `current_address_months_count`   | Time spent at the current address. Longer = more stable.                    |\n",
    "| `customer_age`                   | Age of the customer. Certain fraud patterns target specific age groups.     |\n",
    "| `days_since_request`             | Days passed since the loan/account/etc. was requested.                      |\n",
    "| `intended_balcon_amount`         | The amount the person wants (loan amount, maybe). Larger amounts are higher risk. |\n",
    "| `payment_type`                   | How the payment will be made (e.g., credit card, bank transfer). Some types are riskier. |\n",
    "| `zip_count_4w`                   | Number of people with same ZIP code in last 4 weeks. High number = maybe multiple fake accounts. |\n",
    "| `velocity_6h` / `24h` / `4w`     | Number of transactions in that time frame. High velocity = suspicious behavior (like bots). |\n",
    "| `bank_branch_count_8w`           | How many bank branches this person interacted with in last 8 weeks.         |\n",
    "| `date_of_birth_distinct_emails_4w` | How many different emails used with same DOB — if high, might be identity theft. |\n",
    "| `employment_status`              | Job status (Employed, Unemployed, Student, etc.).                           |\n",
    "| `credit_risk_score`              | A score that tells how likely this person will repay money. Lower = risky.  |\n",
    "| `email_is_free`                  | Is the email from a free service (like Gmail/Yahoo)? Free = easier to fake. |\n",
    "| `housing_status`                 | Owns home, rents, etc.                                                      |\n",
    "| `phone_home_valid`               | Is the home phone number valid?                                             |\n",
    "| `phone_mobile_valid`             | Is the mobile number valid?                                                 |\n",
    "| `bank_months_count`              | How long the person has had their bank account. New accounts = higher risk. |\n",
    "| `has_other_cards`                | Does the person have other credit cards? Might reduce risk (or increase, based on pattern). |\n",
    "| `proposed_credit_limit`          | Requested credit limit. Again, high values = potential risk.                |\n",
    "| `foreign_request`                | Was the request made from a foreign country? Often suspicious.              |\n",
    "| `source`                         | Where the request came from (mobile app, website, etc.).                    |\n",
    "| `session_length_in_minutes`      | How long the session lasted. Very short sessions might be bots.             |\n",
    "| `device_os`                      | What OS the user used (Windows, Android, etc.). Can help detect automated devices. |\n",
    "| `keep_alive_session`             | Whether the session stayed alive (auto-refreshing).                         |\n",
    "| `device_distinct_emails_8w`      | How many different emails used the same device in 8 weeks — common for fraud. |\n",
    "| `device_fraud_count`             | How many times this device has been linked to past frauds. Very powerful feature. |\n",
    "| `month`                          | The calendar month of the request. Fraud may spike during certain seasons (sales, festivals, etc.). |\n"
   ]
  },
  {
   "cell_type": "code",
   "execution_count": 6,
   "id": "a67a257b",
   "metadata": {},
   "outputs": [
    {
     "data": {
      "text/plain": [
       "fraud_bool\n",
       "0    988971\n",
       "1     11029\n",
       "Name: count, dtype: int64"
      ]
     },
     "execution_count": 6,
     "metadata": {},
     "output_type": "execute_result"
    }
   ],
   "source": [
    "df.fraud_bool.value_counts()"
   ]
  },
  {
   "cell_type": "code",
   "execution_count": 7,
   "id": "b2916673",
   "metadata": {},
   "outputs": [],
   "source": [
    "df.rename(columns={\n",
    "    'name_email_similarity': 'name_email_match_score',\n",
    "    \n",
    "    'prev_address_months_count': 'prev_address_duration',\n",
    "\n",
    "    'current_address_months_count': 'curr_address_duration',\n",
    "\n",
    "    'intended_balcon_amount': 'intended_loan_amount',\n",
    "\n",
    "    'zip_count_4w': 'zip_activity_4w',\n",
    "\n",
    "    'velocity_6h': 'tx_velocity_6h',\n",
    "\n",
    "    'velocity_24h': 'tx_velocity_24h',\n",
    "\n",
    "    'velocity_4w': 'tx_velocity_4w',\n",
    "\n",
    "    'date_of_birth_distinct_emails_4w': 'dob_unique_emails_4w',\n",
    "\n",
    "    'bank_branch_count_8w': 'branches_used_8w',\n",
    "\n",
    "    'email_is_free': 'is_free_email',\n",
    "\n",
    "    'keep_alive_session': 'session_auto_active',\n",
    "\n",
    "    'device_distinct_emails_8w': 'device_unique_emails_8w',\n",
    "\n",
    "    'device_fraud_count': 'device_fraud_history',\n",
    "    \n",
    "    'fraud_bool': 'fraud',\n",
    "\n",
    "    'customer_age': 'age',\n",
    "    \n",
    "    'credit_risk_score': 'credit_score',\n",
    "}, inplace=True)\n"
   ]
  },
  {
   "cell_type": "code",
   "execution_count": 8,
   "id": "e71912d5",
   "metadata": {},
   "outputs": [
    {
     "name": "stdout",
     "output_type": "stream",
     "text": [
      "<class 'pandas.core.frame.DataFrame'>\n",
      "RangeIndex: 1000000 entries, 0 to 999999\n",
      "Data columns (total 32 columns):\n",
      " #   Column                     Non-Null Count    Dtype  \n",
      "---  ------                     --------------    -----  \n",
      " 0   fraud                      1000000 non-null  int64  \n",
      " 1   income                     1000000 non-null  float64\n",
      " 2   name_email_match_score     1000000 non-null  float64\n",
      " 3   prev_address_duration      1000000 non-null  int64  \n",
      " 4   curr_address_duration      1000000 non-null  int64  \n",
      " 5   age                        1000000 non-null  int64  \n",
      " 6   days_since_request         1000000 non-null  float64\n",
      " 7   intended_loan_amount       1000000 non-null  float64\n",
      " 8   payment_type               1000000 non-null  object \n",
      " 9   zip_activity_4w            1000000 non-null  int64  \n",
      " 10  tx_velocity_6h             1000000 non-null  float64\n",
      " 11  tx_velocity_24h            1000000 non-null  float64\n",
      " 12  tx_velocity_4w             1000000 non-null  float64\n",
      " 13  branches_used_8w           1000000 non-null  int64  \n",
      " 14  dob_unique_emails_4w       1000000 non-null  int64  \n",
      " 15  employment_status          1000000 non-null  object \n",
      " 16  credit_score               1000000 non-null  int64  \n",
      " 17  is_free_email              1000000 non-null  int64  \n",
      " 18  housing_status             1000000 non-null  object \n",
      " 19  phone_home_valid           1000000 non-null  int64  \n",
      " 20  phone_mobile_valid         1000000 non-null  int64  \n",
      " 21  bank_months_count          1000000 non-null  int64  \n",
      " 22  has_other_cards            1000000 non-null  int64  \n",
      " 23  proposed_credit_limit      1000000 non-null  float64\n",
      " 24  foreign_request            1000000 non-null  int64  \n",
      " 25  source                     1000000 non-null  object \n",
      " 26  session_length_in_minutes  1000000 non-null  float64\n",
      " 27  device_os                  1000000 non-null  object \n",
      " 28  session_auto_active        1000000 non-null  int64  \n",
      " 29  device_unique_emails_8w    1000000 non-null  int64  \n",
      " 30  device_fraud_history       1000000 non-null  int64  \n",
      " 31  month                      1000000 non-null  int64  \n",
      "dtypes: float64(9), int64(18), object(5)\n",
      "memory usage: 244.1+ MB\n"
     ]
    }
   ],
   "source": [
    "## Check the metadata\n",
    "\n",
    "df.info()"
   ]
  },
  {
   "cell_type": "code",
   "execution_count": 9,
   "id": "6eaf0855",
   "metadata": {},
   "outputs": [
    {
     "data": {
      "text/plain": [
       "fraud                        0\n",
       "income                       0\n",
       "name_email_match_score       0\n",
       "prev_address_duration        0\n",
       "curr_address_duration        0\n",
       "age                          0\n",
       "days_since_request           0\n",
       "intended_loan_amount         0\n",
       "payment_type                 0\n",
       "zip_activity_4w              0\n",
       "tx_velocity_6h               0\n",
       "tx_velocity_24h              0\n",
       "tx_velocity_4w               0\n",
       "branches_used_8w             0\n",
       "dob_unique_emails_4w         0\n",
       "employment_status            0\n",
       "credit_score                 0\n",
       "is_free_email                0\n",
       "housing_status               0\n",
       "phone_home_valid             0\n",
       "phone_mobile_valid           0\n",
       "bank_months_count            0\n",
       "has_other_cards              0\n",
       "proposed_credit_limit        0\n",
       "foreign_request              0\n",
       "source                       0\n",
       "session_length_in_minutes    0\n",
       "device_os                    0\n",
       "session_auto_active          0\n",
       "device_unique_emails_8w      0\n",
       "device_fraud_history         0\n",
       "month                        0\n",
       "dtype: int64"
      ]
     },
     "execution_count": 9,
     "metadata": {},
     "output_type": "execute_result"
    }
   ],
   "source": [
    "## Checking for missing values\n",
    "\n",
    "df.isnull().sum()"
   ]
  },
  {
   "cell_type": "code",
   "execution_count": 10,
   "id": "7b0e3e77",
   "metadata": {},
   "outputs": [
    {
     "data": {
      "text/plain": [
       "np.int64(0)"
      ]
     },
     "execution_count": 10,
     "metadata": {},
     "output_type": "execute_result"
    }
   ],
   "source": [
    "df.duplicated().sum()"
   ]
  },
  {
   "cell_type": "code",
   "execution_count": 11,
   "id": "279211e3",
   "metadata": {},
   "outputs": [
    {
     "data": {
      "text/plain": [
       "<Axes: xlabel='fraud', ylabel='count'>"
      ]
     },
     "execution_count": 11,
     "metadata": {},
     "output_type": "execute_result"
    },
    {
     "data": {
      "image/png": "[encoded data removed]",
      "text/plain": [
       "<Figure size 640x480 with 1 Axes>"
      ]
     },
     "metadata": {},
     "output_type": "display_data"
    }
   ],
   "source": [
    "sns.countplot(data=df, x='fraud')"
   ]
  },
  {
   "cell_type": "markdown",
   "id": "8c7b4a2f",
   "metadata": {},
   "source": [
    "**We can clearly see that this data is highly imbalanced containing 988971 records for non-fraud (0) transactions and 11029 records for fraud (1) transactions.**\n",
    "\n",
    "Q. What is Imbalanced Dataset?\n",
    "- Dataset in which the classes or categories are not represented equally\n",
    "\n",
    "Q. What problems are caused by highly Imbalanced dataset?\n",
    "- Biased Model Predictions – The model becomes biased towards the majority class and fails to correctly classify the minority class.\n",
    "- Poor Recall for Minority Class – The model might achieve high accuracy but perform poorly in detecting the minority class (high false negatives).\n",
    "- Misleading Performance Metrics – Accuracy can be deceptive; a model predicting only the majority class can still have high accuracy but be useless for real-world applications.\n",
    "\n",
    "***We will use Under Sampling method to make it balanced. We will take 11029 records for fraud (1) transactions and 11029 records for non-fraud (0) transactions***\n",
    "\n",
    "And use this new data frame for model building"
   ]
  },
  {
   "cell_type": "code",
   "execution_count": 12,
   "id": "69c2c50d",
   "metadata": {},
   "outputs": [
    {
     "name": "stdout",
     "output_type": "stream",
     "text": [
      "Shape of dataframe containing normal (non-fraud) transactions :  (988971, 32)\n",
      "Shape of dataframe containing fraud transactions :  (11029, 32)\n"
     ]
    }
   ],
   "source": [
    "non_fruad = df[df['fraud'] != 1]\n",
    "fruad = df[df['fraud'] == 1]\n",
    "\n",
    "print(\"Shape of dataframe containing normal (non-fraud) transactions : \",non_fruad.shape) # Display the number of normal and fraud transactions\n",
    "print(\"Shape of dataframe containing fraud transactions : \",fruad.shape)    "
   ]
  },
  {
   "cell_type": "code",
   "execution_count": 13,
   "id": "68c82ec3",
   "metadata": {},
   "outputs": [
    {
     "name": "stdout",
     "output_type": "stream",
     "text": [
      "Shape of undersampled normal transactions :  (11029, 32)\n"
     ]
    }
   ],
   "source": [
    "from sklearn.utils import resample\n",
    "non_fruad_under_sample = resample(non_fruad,replace=False,n_samples = len(fruad),random_state=27)\n",
    "\n",
    "print(\"Shape of undersampled normal transactions : \",non_fruad_under_sample.shape)"
   ]
  },
  {
   "cell_type": "code",
   "execution_count": 14,
   "id": "62ba6809",
   "metadata": {},
   "outputs": [
    {
     "data": {
      "text/plain": [
       "fraud\n",
       "0    11029\n",
       "1    11029\n",
       "Name: count, dtype: int64"
      ]
     },
     "execution_count": 14,
     "metadata": {},
     "output_type": "execute_result"
    }
   ],
   "source": [
    "new_df = pd.concat([non_fruad_under_sample,fruad])\n",
    "new_df.fraud.value_counts()"
   ]
  },
  {
   "cell_type": "code",
   "execution_count": 15,
   "id": "66286d0c",
   "metadata": {},
   "outputs": [],
   "source": [
    "new_df.to_csv('data.csv', index = False) "
   ]
  },
  {
   "cell_type": "code",
   "execution_count": 16,
   "id": "d1d8c3cb",
   "metadata": {},
   "outputs": [],
   "source": [
    "df = pd.read_csv('data.csv')"
   ]
  },
  {
   "cell_type": "code",
   "execution_count": 17,
   "id": "e2cd1ff5",
   "metadata": {},
   "outputs": [
    {
     "data": {
      "text/html": [
       "<div>\n",
       "<style scoped>\n",
       "    .dataframe tbody tr th:only-of-type {\n",
       "        vertical-align: middle;\n",
       "    }\n",
       "\n",
       "    .dataframe tbody tr th {\n",
       "        vertical-align: top;\n",
       "    }\n",
       "\n",
       "    .dataframe thead th {\n",
       "        text-align: right;\n",
       "    }\n",
       "</style>\n",
       "<table border=\"1\" class=\"dataframe\">\n",
       "  <thead>\n",
       "    <tr style=\"text-align: right;\">\n",
       "      <th></th>\n",
       "      <th>fraud</th>\n",
       "      <th>income</th>\n",
       "      <th>name_email_match_score</th>\n",
       "      <th>prev_address_duration</th>\n",
       "      <th>curr_address_duration</th>\n",
       "      <th>age</th>\n",
       "      <th>days_since_request</th>\n",
       "      <th>intended_loan_amount</th>\n",
       "      <th>payment_type</th>\n",
       "      <th>zip_activity_4w</th>\n",
       "      <th>tx_velocity_6h</th>\n",
       "      <th>tx_velocity_24h</th>\n",
       "      <th>branches_used_8w</th>\n",
       "      <th>dob_unique_emails_4w</th>\n",
       "      <th>employment_status</th>\n",
       "      <th>credit_score</th>\n",
       "      <th>is_free_email</th>\n",
       "      <th>housing_status</th>\n",
       "      <th>phone_home_valid</th>\n",
       "      <th>phone_mobile_valid</th>\n",
       "      <th>bank_months_count</th>\n",
       "      <th>has_other_cards</th>\n",
       "      <th>proposed_credit_limit</th>\n",
       "      <th>foreign_request</th>\n",
       "      <th>source</th>\n",
       "      <th>session_length_in_minutes</th>\n",
       "      <th>device_os</th>\n",
       "      <th>session_auto_active</th>\n",
       "      <th>device_unique_emails_8w</th>\n",
       "      <th>device_fraud_history</th>\n",
       "      <th>month</th>\n",
       "    </tr>\n",
       "  </thead>\n",
       "  <tbody>\n",
       "    <tr>\n",
       "      <th>0</th>\n",
       "      <td>0</td>\n",
       "      <td>0.2</td>\n",
       "      <td>0.030287</td>\n",
       "      <td>-1</td>\n",
       "      <td>73</td>\n",
       "      <td>20</td>\n",
       "      <td>0.025534</td>\n",
       "      <td>-1.466167</td>\n",
       "      <td>AD</td>\n",
       "      <td>1762</td>\n",
       "      <td>5745.520659</td>\n",
       "      <td>4945.095528</td>\n",
       "      <td>2</td>\n",
       "      <td>16</td>\n",
       "      <td>CA</td>\n",
       "      <td>88</td>\n",
       "      <td>1</td>\n",
       "      <td>BA</td>\n",
       "      <td>0</td>\n",
       "      <td>1</td>\n",
       "      <td>25</td>\n",
       "      <td>0</td>\n",
       "      <td>200.0</td>\n",
       "      <td>0</td>\n",
       "      <td>INTERNET</td>\n",
       "      <td>4.229294</td>\n",
       "      <td>windows</td>\n",
       "      <td>0</td>\n",
       "      <td>1</td>\n",
       "      <td>0</td>\n",
       "      <td>3</td>\n",
       "    </tr>\n",
       "    <tr>\n",
       "      <th>1</th>\n",
       "      <td>0</td>\n",
       "      <td>0.2</td>\n",
       "      <td>0.138368</td>\n",
       "      <td>-1</td>\n",
       "      <td>236</td>\n",
       "      <td>10</td>\n",
       "      <td>0.008773</td>\n",
       "      <td>-1.344937</td>\n",
       "      <td>AB</td>\n",
       "      <td>745</td>\n",
       "      <td>6020.282729</td>\n",
       "      <td>6174.556056</td>\n",
       "      <td>11</td>\n",
       "      <td>8</td>\n",
       "      <td>CA</td>\n",
       "      <td>46</td>\n",
       "      <td>1</td>\n",
       "      <td>BE</td>\n",
       "      <td>0</td>\n",
       "      <td>1</td>\n",
       "      <td>-1</td>\n",
       "      <td>0</td>\n",
       "      <td>200.0</td>\n",
       "      <td>0</td>\n",
       "      <td>INTERNET</td>\n",
       "      <td>13.421658</td>\n",
       "      <td>linux</td>\n",
       "      <td>0</td>\n",
       "      <td>1</td>\n",
       "      <td>0</td>\n",
       "      <td>1</td>\n",
       "    </tr>\n",
       "    <tr>\n",
       "      <th>2</th>\n",
       "      <td>0</td>\n",
       "      <td>0.8</td>\n",
       "      <td>0.018937</td>\n",
       "      <td>-1</td>\n",
       "      <td>85</td>\n",
       "      <td>30</td>\n",
       "      <td>0.012032</td>\n",
       "      <td>31.286179</td>\n",
       "      <td>AA</td>\n",
       "      <td>4922</td>\n",
       "      <td>9182.473655</td>\n",
       "      <td>7031.043215</td>\n",
       "      <td>1366</td>\n",
       "      <td>12</td>\n",
       "      <td>CB</td>\n",
       "      <td>81</td>\n",
       "      <td>1</td>\n",
       "      <td>BA</td>\n",
       "      <td>1</td>\n",
       "      <td>1</td>\n",
       "      <td>15</td>\n",
       "      <td>1</td>\n",
       "      <td>200.0</td>\n",
       "      <td>0</td>\n",
       "      <td>INTERNET</td>\n",
       "      <td>3.836661</td>\n",
       "      <td>other</td>\n",
       "      <td>1</td>\n",
       "      <td>1</td>\n",
       "      <td>0</td>\n",
       "      <td>0</td>\n",
       "    </tr>\n",
       "  </tbody>\n",
       "</table>\n",
       "</div>"
      ],
      "text/plain": [
       "   fraud  income  ...  device_fraud_history  month\n",
       "0      0     0.2  ...                     0      3\n",
       "1      0     0.2  ...                     0      1\n",
       "2      0     0.8  ...                     0      0\n",
       "\n",
       "[3 rows x 31 columns]"
      ]
     },
     "execution_count": 17,
     "metadata": {},
     "output_type": "execute_result"
    }
   ],
   "source": [
    "df.drop(columns=['tx_velocity_4w'], axis=1, inplace=True)\n",
    "\n",
    "df.head(3)"
   ]
  },
  {
   "cell_type": "code",
   "execution_count": 18,
   "id": "1c4df1df",
   "metadata": {},
   "outputs": [],
   "source": [
    "payment_type = [\"AB\",\"AA\",\"AC\",\"AD\",\"AE\"]\n",
    "employment_type = [\"CA\",\"CB\",\"CF\",\"CC\",\"CD\",\"CE\",\"CG\"]\n",
    "housing_type = [\"BC\", \"BB\", \"BA\", \"BE\", \"BD\",\"BF\",\"BG\"]\n",
    "source_type = [\"TELEAPP\", \"INTERNET\"]\n",
    "device_type = [\"x11\", \"macintosh\", \"windows\", \"linux\", \"other\"]"
   ]
  },
  {
   "cell_type": "code",
   "execution_count": 19,
   "id": "01e22e13",
   "metadata": {},
   "outputs": [],
   "source": [
    "num_pipeline = Pipeline(\n",
    "    steps=[\n",
    "        (\"imputer\",SimpleImputer(strategy=\"median\")),\n",
    "        ('scaler',RobustScaler())\n",
    "    ]\n",
    ")\n",
    "\n",
    "\n",
    "cat_pipeline = Pipeline(\n",
    "    steps=[\n",
    "        (\"imputer\",SimpleImputer(strategy=\"most_frequent\")),\n",
    "        (\"encoder\",OrdinalEncoder(categories=[payment_type, employment_type, housing_type, source_type, device_type]))\n",
    "\n",
    "    ]\n",
    ")\n"
   ]
  },
  {
   "cell_type": "code",
   "execution_count": 20,
   "id": "484c1010",
   "metadata": {},
   "outputs": [],
   "source": [
    "# X = df.drop(columns=['fraud'],axis=1)\n",
    "# y = df['fraud']"
   ]
  },
  {
   "cell_type": "code",
   "execution_count": 21,
   "id": "c34e0052",
   "metadata": {},
   "outputs": [],
   "source": [
    "# num_cols = X.select_dtypes(exclude='object').columns\n",
    "# cat_cols = X.select_dtypes(include='object').columns"
   ]
  },
  {
   "cell_type": "code",
   "execution_count": 22,
   "id": "aa21cc9d",
   "metadata": {},
   "outputs": [],
   "source": [
    "# print(num_cols)"
   ]
  },
  {
   "cell_type": "code",
   "execution_count": 23,
   "id": "8cd705ad",
   "metadata": {},
   "outputs": [],
   "source": [
    "# print(cat_cols)"
   ]
  },
  {
   "cell_type": "code",
   "execution_count": 24,
   "id": "d78bb8e4",
   "metadata": {},
   "outputs": [],
   "source": [
    "# preprocessor = ColumnTransformer(\n",
    "#     [\n",
    "#         (\"num_pipeline\",num_pipeline,num_cols),\n",
    "#         (\"cat_pipeline\",cat_pipeline,cat_cols)\n",
    "#     ]\n",
    "# )"
   ]
  },
  {
   "cell_type": "code",
   "execution_count": 25,
   "id": "f133d2c2",
   "metadata": {},
   "outputs": [],
   "source": [
    "# from sklearn.model_selection import train_test_split\n",
    "# X_train,X_test,y_train,y_test = train_test_split(X,y,test_size=0.3,random_state=12)\n"
   ]
  },
  {
   "cell_type": "code",
   "execution_count": 26,
   "id": "b8615199",
   "metadata": {},
   "outputs": [],
   "source": [
    "# X.head()"
   ]
  },
  {
   "cell_type": "code",
   "execution_count": 27,
   "id": "80ffeaf8",
   "metadata": {},
   "outputs": [],
   "source": [
    "# X_train.shape"
   ]
  },
  {
   "cell_type": "code",
   "execution_count": 28,
   "id": "7573f0fb",
   "metadata": {},
   "outputs": [],
   "source": [
    "# X_train.columns"
   ]
  },
  {
   "cell_type": "code",
   "execution_count": 29,
   "id": "6945db32",
   "metadata": {},
   "outputs": [],
   "source": [
    "# X_test.shape"
   ]
  },
  {
   "cell_type": "code",
   "execution_count": 30,
   "id": "526779a1",
   "metadata": {},
   "outputs": [],
   "source": [
    "# y_train.head()"
   ]
  },
  {
   "cell_type": "code",
   "execution_count": 31,
   "id": "c9648477",
   "metadata": {},
   "outputs": [],
   "source": [
    "# preprocessor.fit_transform(X_train)\n",
    "# preprocessor.transform(X_test)\n"
   ]
  },
  {
   "cell_type": "code",
   "execution_count": 32,
   "id": "eaa22a25",
   "metadata": {},
   "outputs": [],
   "source": [
    "# X_train = pd.DataFrame(preprocessor.fit_transform(X_train),columns=preprocessor.get_feature_names_out())\n",
    "# X_test=pd.DataFrame(preprocessor.transform(X_test),columns=preprocessor.get_feature_names_out())"
   ]
  },
  {
   "cell_type": "code",
   "execution_count": 33,
   "id": "0e8b2fdc",
   "metadata": {},
   "outputs": [],
   "source": [
    "CONFIG = {\n",
    "    \"data_path\": \"notebooks/data.csv\",\n",
    "    \"test_size\": 0.3,\n",
    "    \"mlflow_tracking_uri\": \"https://dagshub.com/nikhilnagar503/fruad_detection.mlflow\",\n",
    "    \"dagshub_repo_owner\": \"nikhilnagar503\",\n",
    "    \"dagshub_repo_name\": \"fruad_detection\",\n",
    "    \"experiment_name\": \"model-exp\"\n",
    "}"
   ]
  },
  {
   "cell_type": "code",
   "execution_count": 34,
   "id": "43198fbe",
   "metadata": {},
   "outputs": [
    {
     "data": {
      "text/html": [
       "<pre style=\"white-space:pre;overflow-x:auto;line-height:normal;font-family:Menlo,'DejaVu Sans Mono',consolas,'Courier New',monospace\">Accessing as nikhilnagar503\n",
       "</pre>\n"
      ],
      "text/plain": [
       "Accessing as nikhilnagar503\n"
      ]
     },
     "metadata": {},
     "output_type": "display_data"
    },
    {
     "data": {
      "text/html": [
       "<pre style=\"white-space:pre;overflow-x:auto;line-height:normal;font-family:Menlo,'DejaVu Sans Mono',consolas,'Courier New',monospace\">Initialized MLflow to track repo <span style=\"color: #008000; text-decoration-color: #008000\">\"nikhilnagar503/fruad_detection\"</span>\n",
       "</pre>\n"
      ],
      "text/plain": [
       "Initialized MLflow to track repo \u001b[32m\"nikhilnagar503/fruad_detection\"\u001b[0m\n"
      ]
     },
     "metadata": {},
     "output_type": "display_data"
    },
    {
     "data": {
      "text/html": [
       "<pre style=\"white-space:pre;overflow-x:auto;line-height:normal;font-family:Menlo,'DejaVu Sans Mono',consolas,'Courier New',monospace\">Repository nikhilnagar503/fruad_detection initialized!\n",
       "</pre>\n"
      ],
      "text/plain": [
       "Repository nikhilnagar503/fruad_detection initialized!\n"
      ]
     },
     "metadata": {},
     "output_type": "display_data"
    },
    {
     "data": {
      "text/plain": [
       "<Experiment: artifact_location='mlflow-artifacts:/3adddd7e2040418aac323e50f1846ae0', creation_time=1750487007797, experiment_id='1', last_update_time=1750487007797, lifecycle_stage='active', name='model-exp', tags={}>"
      ]
     },
     "execution_count": 34,
     "metadata": {},
     "output_type": "execute_result"
    }
   ],
   "source": [
    "import dagshub\n",
    "import mlflow\n",
    "\n",
    "mlflow.set_tracking_uri(CONFIG['mlflow_tracking_uri'])\n",
    "dagshub.init(repo_owner=CONFIG['dagshub_repo_owner'], repo_name=CONFIG['dagshub_repo_name'], mlflow=True)\n",
    "mlflow.set_experiment(CONFIG['experiment_name'])\n"
   ]
  },
  {
   "cell_type": "code",
   "execution_count": null,
   "id": "7866f194",
   "metadata": {},
   "outputs": [
    {
     "ename": "TypeError",
     "evalue": "bad argument type for built-in operation",
     "output_type": "error",
     "traceback": [
      "\u001b[31m---------------------------------------------------------------------------\u001b[39m",
      "\u001b[31mTypeError\u001b[39m                                 Traceback (most recent call last)",
      "\u001b[36mCell\u001b[39m\u001b[36m \u001b[39m\u001b[32mIn[37]\u001b[39m\u001b[32m, line 94\u001b[39m\n\u001b[32m     89\u001b[39m     mlflow.log_params(params_to_log)\n\u001b[32m     92\u001b[39m \u001b[38;5;28;01mif\u001b[39;00m \u001b[34m__name__\u001b[39m == \u001b[33m\"\u001b[39m\u001b[33m__main__\u001b[39m\u001b[33m\"\u001b[39m:\n\u001b[32m---> \u001b[39m\u001b[32m94\u001b[39m     \u001b[43mtrain_and_evaluate\u001b[49m\u001b[43m(\u001b[49m\u001b[43mdf\u001b[49m\u001b[43m)\u001b[49m\n",
      "\u001b[36mCell\u001b[39m\u001b[36m \u001b[39m\u001b[32mIn[37]\u001b[39m\u001b[32m, line 39\u001b[39m, in \u001b[36mtrain_and_evaluate\u001b[39m\u001b[34m(df)\u001b[39m\n\u001b[32m     36\u001b[39m X_test  = pd.DataFrame(preprocessor.transform(X_test),columns=preprocessor.get_feature_names_out())\n\u001b[32m     38\u001b[39m \u001b[38;5;28;01mfor\u001b[39;00m algo_name , algorithm \u001b[38;5;129;01min\u001b[39;00m ALGORITHMS.items():\n\u001b[32m---> \u001b[39m\u001b[32m39\u001b[39m     \u001b[38;5;28;01mwith\u001b[39;00m  \u001b[43mmlflow\u001b[49m\u001b[43m.\u001b[49m\u001b[43mstart_run\u001b[49m\u001b[43m(\u001b[49m\u001b[43mrun_name\u001b[49m\u001b[43m=\u001b[49m\u001b[43m{\u001b[49m\u001b[43malgo_name\u001b[49m\u001b[43m}\u001b[49m\u001b[43m)\u001b[49m \u001b[38;5;28;01mas\u001b[39;00m child_run:\n\u001b[32m     40\u001b[39m         \u001b[38;5;28;01mtry\u001b[39;00m:\n\u001b[32m     41\u001b[39m             model = algorithm\n",
      "\u001b[36mFile \u001b[39m\u001b[32mc:\\Users\\nagar\\OneDrive\\Desktop\\projects\\FD\\fruad_detection\\fruad_env\\Lib\\site-packages\\mlflow\\tracking\\fluent.py:474\u001b[39m, in \u001b[36mstart_run\u001b[39m\u001b[34m(run_id, experiment_id, run_name, nested, parent_run_id, tags, description, log_system_metrics)\u001b[39m\n\u001b[32m    470\u001b[39m         user_specified_tags[MLFLOW_RUN_NAME] = run_name\n\u001b[32m    472\u001b[39m     resolved_tags = context_registry.resolve_tags(user_specified_tags)\n\u001b[32m--> \u001b[39m\u001b[32m474\u001b[39m     active_run_obj = \u001b[43mclient\u001b[49m\u001b[43m.\u001b[49m\u001b[43mcreate_run\u001b[49m\u001b[43m(\u001b[49m\n\u001b[32m    475\u001b[39m \u001b[43m        \u001b[49m\u001b[43mexperiment_id\u001b[49m\u001b[43m=\u001b[49m\u001b[43mexp_id_for_run\u001b[49m\u001b[43m,\u001b[49m\n\u001b[32m    476\u001b[39m \u001b[43m        \u001b[49m\u001b[43mtags\u001b[49m\u001b[43m=\u001b[49m\u001b[43mresolved_tags\u001b[49m\u001b[43m,\u001b[49m\n\u001b[32m    477\u001b[39m \u001b[43m        \u001b[49m\u001b[43mrun_name\u001b[49m\u001b[43m=\u001b[49m\u001b[43mrun_name\u001b[49m\u001b[43m,\u001b[49m\n\u001b[32m    478\u001b[39m \u001b[43m    \u001b[49m\u001b[43m)\u001b[49m\n\u001b[32m    480\u001b[39m \u001b[38;5;28;01mif\u001b[39;00m log_system_metrics \u001b[38;5;129;01mis\u001b[39;00m \u001b[38;5;28;01mNone\u001b[39;00m:\n\u001b[32m    481\u001b[39m     \u001b[38;5;66;03m# If `log_system_metrics` is not specified, we will check environment variable.\u001b[39;00m\n\u001b[32m    482\u001b[39m     log_system_metrics = MLFLOW_ENABLE_SYSTEM_METRICS_LOGGING.get()\n",
      "\u001b[36mFile \u001b[39m\u001b[32mc:\\Users\\nagar\\OneDrive\\Desktop\\projects\\FD\\fruad_detection\\fruad_env\\Lib\\site-packages\\mlflow\\tracking\\client.py:434\u001b[39m, in \u001b[36mMlflowClient.create_run\u001b[39m\u001b[34m(self, experiment_id, start_time, tags, run_name)\u001b[39m\n\u001b[32m    380\u001b[39m \u001b[38;5;28;01mdef\u001b[39;00m\u001b[38;5;250m \u001b[39m\u001b[34mcreate_run\u001b[39m(\n\u001b[32m    381\u001b[39m     \u001b[38;5;28mself\u001b[39m,\n\u001b[32m    382\u001b[39m     experiment_id: \u001b[38;5;28mstr\u001b[39m,\n\u001b[32m   (...)\u001b[39m\u001b[32m    385\u001b[39m     run_name: Optional[\u001b[38;5;28mstr\u001b[39m] = \u001b[38;5;28;01mNone\u001b[39;00m,\n\u001b[32m    386\u001b[39m ) -> Run:\n\u001b[32m    387\u001b[39m \u001b[38;5;250m    \u001b[39m\u001b[33;03m\"\"\"\u001b[39;00m\n\u001b[32m    388\u001b[39m \u001b[33;03m    Create a :py:class:`mlflow.entities.Run` object that can be associated with\u001b[39;00m\n\u001b[32m    389\u001b[39m \u001b[33;03m    metrics, parameters, artifacts, etc.\u001b[39;00m\n\u001b[32m   (...)\u001b[39m\u001b[32m    432\u001b[39m \u001b[33;03m        status: RUNNING\u001b[39;00m\n\u001b[32m    433\u001b[39m \u001b[33;03m    \"\"\"\u001b[39;00m\n\u001b[32m--> \u001b[39m\u001b[32m434\u001b[39m     \u001b[38;5;28;01mreturn\u001b[39;00m \u001b[38;5;28;43mself\u001b[39;49m\u001b[43m.\u001b[49m\u001b[43m_tracking_client\u001b[49m\u001b[43m.\u001b[49m\u001b[43mcreate_run\u001b[49m\u001b[43m(\u001b[49m\u001b[43mexperiment_id\u001b[49m\u001b[43m,\u001b[49m\u001b[43m \u001b[49m\u001b[43mstart_time\u001b[49m\u001b[43m,\u001b[49m\u001b[43m \u001b[49m\u001b[43mtags\u001b[49m\u001b[43m,\u001b[49m\u001b[43m \u001b[49m\u001b[43mrun_name\u001b[49m\u001b[43m)\u001b[49m\n",
      "\u001b[36mFile \u001b[39m\u001b[32mc:\\Users\\nagar\\OneDrive\\Desktop\\projects\\FD\\fruad_detection\\fruad_env\\Lib\\site-packages\\mlflow\\tracking\\_tracking_service\\client.py:161\u001b[39m, in \u001b[36mTrackingServiceClient.create_run\u001b[39m\u001b[34m(self, experiment_id, start_time, tags, run_name)\u001b[39m\n\u001b[32m    156\u001b[39m \u001b[38;5;66;03m# Extract user from tags\u001b[39;00m\n\u001b[32m    157\u001b[39m \u001b[38;5;66;03m# This logic is temporary; the user_id attribute of runs is deprecated and will be removed\u001b[39;00m\n\u001b[32m    158\u001b[39m \u001b[38;5;66;03m# in a later release.\u001b[39;00m\n\u001b[32m    159\u001b[39m user_id = tags.get(MLFLOW_USER, \u001b[33m\"\u001b[39m\u001b[33munknown\u001b[39m\u001b[33m\"\u001b[39m)\n\u001b[32m--> \u001b[39m\u001b[32m161\u001b[39m \u001b[38;5;28;01mreturn\u001b[39;00m \u001b[38;5;28;43mself\u001b[39;49m\u001b[43m.\u001b[49m\u001b[43mstore\u001b[49m\u001b[43m.\u001b[49m\u001b[43mcreate_run\u001b[49m\u001b[43m(\u001b[49m\n\u001b[32m    162\u001b[39m \u001b[43m    \u001b[49m\u001b[43mexperiment_id\u001b[49m\u001b[43m=\u001b[49m\u001b[43mexperiment_id\u001b[49m\u001b[43m,\u001b[49m\n\u001b[32m    163\u001b[39m \u001b[43m    \u001b[49m\u001b[43muser_id\u001b[49m\u001b[43m=\u001b[49m\u001b[43muser_id\u001b[49m\u001b[43m,\u001b[49m\n\u001b[32m    164\u001b[39m \u001b[43m    \u001b[49m\u001b[43mstart_time\u001b[49m\u001b[43m=\u001b[49m\u001b[43mstart_time\u001b[49m\u001b[43m \u001b[49m\u001b[38;5;129;43;01mor\u001b[39;49;00m\u001b[43m \u001b[49m\u001b[43mget_current_time_millis\u001b[49m\u001b[43m(\u001b[49m\u001b[43m)\u001b[49m\u001b[43m,\u001b[49m\n\u001b[32m    165\u001b[39m \u001b[43m    \u001b[49m\u001b[43mtags\u001b[49m\u001b[43m=\u001b[49m\u001b[43m[\u001b[49m\u001b[43mRunTag\u001b[49m\u001b[43m(\u001b[49m\u001b[43mkey\u001b[49m\u001b[43m,\u001b[49m\u001b[43m \u001b[49m\u001b[43mvalue\u001b[49m\u001b[43m)\u001b[49m\u001b[43m \u001b[49m\u001b[38;5;28;43;01mfor\u001b[39;49;00m\u001b[43m \u001b[49m\u001b[43m(\u001b[49m\u001b[43mkey\u001b[49m\u001b[43m,\u001b[49m\u001b[43m \u001b[49m\u001b[43mvalue\u001b[49m\u001b[43m)\u001b[49m\u001b[43m \u001b[49m\u001b[38;5;129;43;01min\u001b[39;49;00m\u001b[43m \u001b[49m\u001b[43mtags\u001b[49m\u001b[43m.\u001b[49m\u001b[43mitems\u001b[49m\u001b[43m(\u001b[49m\u001b[43m)\u001b[49m\u001b[43m]\u001b[49m\u001b[43m,\u001b[49m\n\u001b[32m    166\u001b[39m \u001b[43m    \u001b[49m\u001b[43mrun_name\u001b[49m\u001b[43m=\u001b[49m\u001b[43mrun_name\u001b[49m\u001b[43m,\u001b[49m\n\u001b[32m    167\u001b[39m \u001b[43m\u001b[49m\u001b[43m)\u001b[49m\n",
      "\u001b[36mFile \u001b[39m\u001b[32mc:\\Users\\nagar\\OneDrive\\Desktop\\projects\\FD\\fruad_detection\\fruad_env\\Lib\\site-packages\\mlflow\\store\\tracking\\rest_store.py:262\u001b[39m, in \u001b[36mRestStore.create_run\u001b[39m\u001b[34m(self, experiment_id, user_id, start_time, tags, run_name)\u001b[39m\n\u001b[32m    246\u001b[39m \u001b[38;5;28;01mdef\u001b[39;00m\u001b[38;5;250m \u001b[39m\u001b[34mcreate_run\u001b[39m(\u001b[38;5;28mself\u001b[39m, experiment_id, user_id, start_time, tags, run_name):\n\u001b[32m    247\u001b[39m \u001b[38;5;250m    \u001b[39m\u001b[33;03m\"\"\"\u001b[39;00m\n\u001b[32m    248\u001b[39m \u001b[33;03m    Create a run under the specified experiment ID, setting the run's status to \"RUNNING\"\u001b[39;00m\n\u001b[32m    249\u001b[39m \u001b[33;03m    and the start time to the current time.\u001b[39;00m\n\u001b[32m   (...)\u001b[39m\u001b[32m    259\u001b[39m \u001b[33;03m        The created Run object.\u001b[39;00m\n\u001b[32m    260\u001b[39m \u001b[33;03m    \"\"\"\u001b[39;00m\n\u001b[32m--> \u001b[39m\u001b[32m262\u001b[39m     tag_protos = \u001b[43m[\u001b[49m\u001b[43mtag\u001b[49m\u001b[43m.\u001b[49m\u001b[43mto_proto\u001b[49m\u001b[43m(\u001b[49m\u001b[43m)\u001b[49m\u001b[43m \u001b[49m\u001b[38;5;28;43;01mfor\u001b[39;49;00m\u001b[43m \u001b[49m\u001b[43mtag\u001b[49m\u001b[43m \u001b[49m\u001b[38;5;129;43;01min\u001b[39;49;00m\u001b[43m \u001b[49m\u001b[43mtags\u001b[49m\u001b[43m]\u001b[49m\n\u001b[32m    263\u001b[39m     req_body = message_to_json(\n\u001b[32m    264\u001b[39m         CreateRun(\n\u001b[32m    265\u001b[39m             experiment_id=\u001b[38;5;28mstr\u001b[39m(experiment_id),\n\u001b[32m   (...)\u001b[39m\u001b[32m    270\u001b[39m         )\n\u001b[32m    271\u001b[39m     )\n\u001b[32m    272\u001b[39m     response_proto = \u001b[38;5;28mself\u001b[39m._call_endpoint(CreateRun, req_body)\n",
      "\u001b[36mFile \u001b[39m\u001b[32mc:\\Users\\nagar\\OneDrive\\Desktop\\projects\\FD\\fruad_detection\\fruad_env\\Lib\\site-packages\\mlflow\\store\\tracking\\rest_store.py:262\u001b[39m, in \u001b[36m<listcomp>\u001b[39m\u001b[34m(.0)\u001b[39m\n\u001b[32m    246\u001b[39m \u001b[38;5;28;01mdef\u001b[39;00m\u001b[38;5;250m \u001b[39m\u001b[34mcreate_run\u001b[39m(\u001b[38;5;28mself\u001b[39m, experiment_id, user_id, start_time, tags, run_name):\n\u001b[32m    247\u001b[39m \u001b[38;5;250m    \u001b[39m\u001b[33;03m\"\"\"\u001b[39;00m\n\u001b[32m    248\u001b[39m \u001b[33;03m    Create a run under the specified experiment ID, setting the run's status to \"RUNNING\"\u001b[39;00m\n\u001b[32m    249\u001b[39m \u001b[33;03m    and the start time to the current time.\u001b[39;00m\n\u001b[32m   (...)\u001b[39m\u001b[32m    259\u001b[39m \u001b[33;03m        The created Run object.\u001b[39;00m\n\u001b[32m    260\u001b[39m \u001b[33;03m    \"\"\"\u001b[39;00m\n\u001b[32m--> \u001b[39m\u001b[32m262\u001b[39m     tag_protos = [\u001b[43mtag\u001b[49m\u001b[43m.\u001b[49m\u001b[43mto_proto\u001b[49m\u001b[43m(\u001b[49m\u001b[43m)\u001b[49m \u001b[38;5;28;01mfor\u001b[39;00m tag \u001b[38;5;129;01min\u001b[39;00m tags]\n\u001b[32m    263\u001b[39m     req_body = message_to_json(\n\u001b[32m    264\u001b[39m         CreateRun(\n\u001b[32m    265\u001b[39m             experiment_id=\u001b[38;5;28mstr\u001b[39m(experiment_id),\n\u001b[32m   (...)\u001b[39m\u001b[32m    270\u001b[39m         )\n\u001b[32m    271\u001b[39m     )\n\u001b[32m    272\u001b[39m     response_proto = \u001b[38;5;28mself\u001b[39m._call_endpoint(CreateRun, req_body)\n",
      "\u001b[36mFile \u001b[39m\u001b[32mc:\\Users\\nagar\\OneDrive\\Desktop\\projects\\FD\\fruad_detection\\fruad_env\\Lib\\site-packages\\mlflow\\entities\\run_tag.py:31\u001b[39m, in \u001b[36mRunTag.to_proto\u001b[39m\u001b[34m(self)\u001b[39m\n\u001b[32m     29\u001b[39m param = ProtoRunTag()\n\u001b[32m     30\u001b[39m param.key = \u001b[38;5;28mself\u001b[39m.key\n\u001b[32m---> \u001b[39m\u001b[32m31\u001b[39m \u001b[43mparam\u001b[49m\u001b[43m.\u001b[49m\u001b[43mvalue\u001b[49m = \u001b[38;5;28mself\u001b[39m.value\n\u001b[32m     32\u001b[39m \u001b[38;5;28;01mreturn\u001b[39;00m param\n",
      "\u001b[31mTypeError\u001b[39m: bad argument type for built-in operation"
     ]
    }
   ],
   "source": [
    "import mlflow.sklearn\n",
    "from xgboost import XGBClassifier\n",
    "from sklearn.ensemble import RandomForestClassifier\n",
    "from sklearn.linear_model import LogisticRegression\n",
    "from sklearn.metrics import accuracy_score, f1_score, precision_score,recall_score\n",
    "from sklearn.ensemble import GradientBoostingClassifier\n",
    "from sklearn.model_selection import train_test_split\n",
    "\n",
    "ALGORITHMS = {\n",
    "    'LogisticRegression': LogisticRegression(),\n",
    "    'RandomForest': RandomForestClassifier(),\n",
    "    'GradientBoosting': GradientBoostingClassifier(),\n",
    "    'xgboost':XGBClassifier()\n",
    "}\n",
    "\n",
    "\n",
    "def train_and_evaluate(df):\n",
    "    X = df.drop(columns=['fraud'],axis=1)\n",
    "    y = df['fraud']\n",
    "    X_train,X_test,y_train,y_test = train_test_split(X,y,test_size=CONFIG['test_size'],random_state=12)\n",
    "    num_cols = X.select_dtypes(exclude='object').columns\n",
    "    cat_cols = X.select_dtypes(include='object').columns\n",
    "      \n",
    "    preprocessor = ColumnTransformer(\n",
    "    [\n",
    "        (\"num_pipeline\",num_pipeline,num_cols),\n",
    "        (\"cat_pipeline\",cat_pipeline,cat_cols)\n",
    "    ]\n",
    "   )\n",
    "    \n",
    "       \n",
    "    preprocessor.fit_transform(X_train)\n",
    "    preprocessor.transform(X_test)\n",
    "\n",
    "    X_train = pd.DataFrame(preprocessor.fit_transform(X_train),columns=preprocessor.get_feature_names_out())\n",
    "    X_test  = pd.DataFrame(preprocessor.transform(X_test),columns=preprocessor.get_feature_names_out())\n",
    "\n",
    "    for algo_name , algorithm in ALGORITHMS.items():\n",
    "        with  mlflow.start_run(run_name=algo_name) as child_run:\n",
    "            try:\n",
    "                model = algorithm\n",
    "                model.fit(X_train,y_train)\n",
    "                y_pred = model.predict(X_test)\n",
    "\n",
    "                mlflow.log_params({\n",
    "                     \"algorithm\": algo_name,\n",
    "                     \"test_size\": CONFIG[\"test_size\"]\n",
    "                })\n",
    "\n",
    "                metrics = {\n",
    "                                \"accuracy\": accuracy_score(y_test, y_pred),\n",
    "                                \"precision\": precision_score(y_test, y_pred),\n",
    "                                \"recall\": recall_score(y_test, y_pred),\n",
    "                                \"f1_score\": f1_score(y_test, y_pred)\n",
    "                            }\n",
    "                mlflow.log_metrics(metrics)\n",
    "                log_model_params(algo_name, model)\n",
    "                mlflow.sklearn.log_model(model, \"model\")\n",
    "            except Exception as e :\n",
    "                print(f\"Error training {algo_name} : {e}\")\n",
    "                mlflow.log_param(\"error\", str(e))\n",
    "\n",
    "\n",
    "def log_model_params(algo_name, model):\n",
    "    params_to_log = {}\n",
    "\n",
    "    if algo_name == 'LogisticRegression':\n",
    "        params_to_log[\"C\"] = model.C\n",
    "\n",
    "    elif algo_name == 'RandomForest':\n",
    "        params_to_log[\"n_estimators\"] = model.n_estimators\n",
    "        params_to_log[\"max_depth\"] = model.max_depth\n",
    "\n",
    "    elif algo_name == 'GradientBoosting':\n",
    "        params_to_log[\"n_estimators\"] = model.n_estimators\n",
    "        params_to_log[\"learning_rate\"] = model.learning_rate\n",
    "        params_to_log[\"max_depth\"] = model.max_depth\n",
    "\n",
    "    elif algo_name == 'XGBoost':\n",
    "        params_to_log[\"n_estimators\"] = model.n_estimators\n",
    "        params_to_log[\"learning_rate\"] = model.learning_rate\n",
    "        params_to_log[\"max_depth\"] = model.max_depth\n",
    "        params_to_log[\"subsample\"] = model.subsample\n",
    "        params_to_log[\"colsample_bytree\"] = model.colsample_bytree\n",
    "        params_to_log[\"gamma\"] = model.gamma\n",
    "        params_to_log[\"reg_alpha\"] = model.reg_alpha\n",
    "        params_to_log[\"reg_lambda\"] = model.reg_lambda\n",
    "\n",
    "    mlflow.log_params(params_to_log)\n",
    "\n",
    "\n",
    "if __name__ == \"__main__\":\n",
    "    \n",
    "    train_and_evaluate(df)\n",
    "\n"
   ]
  },
  {
   "cell_type": "code",
   "execution_count": 36,
   "id": "c39f4f27",
   "metadata": {},
   "outputs": [
    {
     "ename": "TypeError",
     "evalue": "bad argument type for built-in operation",
     "output_type": "error",
     "traceback": [
      "\u001b[31m---------------------------------------------------------------------------\u001b[39m",
      "\u001b[31mTypeError\u001b[39m                                 Traceback (most recent call last)",
      "\u001b[36mCell\u001b[39m\u001b[36m \u001b[39m\u001b[32mIn[36]\u001b[39m\u001b[32m, line 4\u001b[39m\n\u001b[32m      1\u001b[39m \u001b[38;5;66;03m# ========================== EXECUTION ==========================\u001b[39;00m\n\u001b[32m      2\u001b[39m \u001b[38;5;28;01mif\u001b[39;00m \u001b[34m__name__\u001b[39m == \u001b[33m\"\u001b[39m\u001b[33m__main__\u001b[39m\u001b[33m\"\u001b[39m:\n\u001b[32m----> \u001b[39m\u001b[32m4\u001b[39m     \u001b[43mtrain_and_evaluate\u001b[49m\u001b[43m(\u001b[49m\u001b[43mdf\u001b[49m\u001b[43m)\u001b[49m\n",
      "\u001b[36mCell\u001b[39m\u001b[36m \u001b[39m\u001b[32mIn[35]\u001b[39m\u001b[32m, line 39\u001b[39m, in \u001b[36mtrain_and_evaluate\u001b[39m\u001b[34m(df)\u001b[39m\n\u001b[32m     36\u001b[39m X_test  = pd.DataFrame(preprocessor.transform(X_test),columns=preprocessor.get_feature_names_out())\n\u001b[32m     38\u001b[39m \u001b[38;5;28;01mfor\u001b[39;00m algo_name , algorithm \u001b[38;5;129;01min\u001b[39;00m ALGORITHMS.items():\n\u001b[32m---> \u001b[39m\u001b[32m39\u001b[39m     \u001b[38;5;28;01mwith\u001b[39;00m  \u001b[43mmlflow\u001b[49m\u001b[43m.\u001b[49m\u001b[43mstart_run\u001b[49m\u001b[43m(\u001b[49m\u001b[43mrun_name\u001b[49m\u001b[43m=\u001b[49m\u001b[43m{\u001b[49m\u001b[43malgo_name\u001b[49m\u001b[43m}\u001b[49m\u001b[43m)\u001b[49m \u001b[38;5;28;01mas\u001b[39;00m child_run:\n\u001b[32m     40\u001b[39m         \u001b[38;5;28;01mtry\u001b[39;00m:\n\u001b[32m     41\u001b[39m             model = algorithm\n",
      "\u001b[36mFile \u001b[39m\u001b[32mc:\\Users\\nagar\\OneDrive\\Desktop\\projects\\FD\\fruad_detection\\fruad_env\\Lib\\site-packages\\mlflow\\tracking\\fluent.py:474\u001b[39m, in \u001b[36mstart_run\u001b[39m\u001b[34m(run_id, experiment_id, run_name, nested, parent_run_id, tags, description, log_system_metrics)\u001b[39m\n\u001b[32m    470\u001b[39m         user_specified_tags[MLFLOW_RUN_NAME] = run_name\n\u001b[32m    472\u001b[39m     resolved_tags = context_registry.resolve_tags(user_specified_tags)\n\u001b[32m--> \u001b[39m\u001b[32m474\u001b[39m     active_run_obj = \u001b[43mclient\u001b[49m\u001b[43m.\u001b[49m\u001b[43mcreate_run\u001b[49m\u001b[43m(\u001b[49m\n\u001b[32m    475\u001b[39m \u001b[43m        \u001b[49m\u001b[43mexperiment_id\u001b[49m\u001b[43m=\u001b[49m\u001b[43mexp_id_for_run\u001b[49m\u001b[43m,\u001b[49m\n\u001b[32m    476\u001b[39m \u001b[43m        \u001b[49m\u001b[43mtags\u001b[49m\u001b[43m=\u001b[49m\u001b[43mresolved_tags\u001b[49m\u001b[43m,\u001b[49m\n\u001b[32m    477\u001b[39m \u001b[43m        \u001b[49m\u001b[43mrun_name\u001b[49m\u001b[43m=\u001b[49m\u001b[43mrun_name\u001b[49m\u001b[43m,\u001b[49m\n\u001b[32m    478\u001b[39m \u001b[43m    \u001b[49m\u001b[43m)\u001b[49m\n\u001b[32m    480\u001b[39m \u001b[38;5;28;01mif\u001b[39;00m log_system_metrics \u001b[38;5;129;01mis\u001b[39;00m \u001b[38;5;28;01mNone\u001b[39;00m:\n\u001b[32m    481\u001b[39m     \u001b[38;5;66;03m# If `log_system_metrics` is not specified, we will check environment variable.\u001b[39;00m\n\u001b[32m    482\u001b[39m     log_system_metrics = MLFLOW_ENABLE_SYSTEM_METRICS_LOGGING.get()\n",
      "\u001b[36mFile \u001b[39m\u001b[32mc:\\Users\\nagar\\OneDrive\\Desktop\\projects\\FD\\fruad_detection\\fruad_env\\Lib\\site-packages\\mlflow\\tracking\\client.py:434\u001b[39m, in \u001b[36mMlflowClient.create_run\u001b[39m\u001b[34m(self, experiment_id, start_time, tags, run_name)\u001b[39m\n\u001b[32m    380\u001b[39m \u001b[38;5;28;01mdef\u001b[39;00m\u001b[38;5;250m \u001b[39m\u001b[34mcreate_run\u001b[39m(\n\u001b[32m    381\u001b[39m     \u001b[38;5;28mself\u001b[39m,\n\u001b[32m    382\u001b[39m     experiment_id: \u001b[38;5;28mstr\u001b[39m,\n\u001b[32m   (...)\u001b[39m\u001b[32m    385\u001b[39m     run_name: Optional[\u001b[38;5;28mstr\u001b[39m] = \u001b[38;5;28;01mNone\u001b[39;00m,\n\u001b[32m    386\u001b[39m ) -> Run:\n\u001b[32m    387\u001b[39m \u001b[38;5;250m    \u001b[39m\u001b[33;03m\"\"\"\u001b[39;00m\n\u001b[32m    388\u001b[39m \u001b[33;03m    Create a :py:class:`mlflow.entities.Run` object that can be associated with\u001b[39;00m\n\u001b[32m    389\u001b[39m \u001b[33;03m    metrics, parameters, artifacts, etc.\u001b[39;00m\n\u001b[32m   (...)\u001b[39m\u001b[32m    432\u001b[39m \u001b[33;03m        status: RUNNING\u001b[39;00m\n\u001b[32m    433\u001b[39m \u001b[33;03m    \"\"\"\u001b[39;00m\n\u001b[32m--> \u001b[39m\u001b[32m434\u001b[39m     \u001b[38;5;28;01mreturn\u001b[39;00m \u001b[38;5;28;43mself\u001b[39;49m\u001b[43m.\u001b[49m\u001b[43m_tracking_client\u001b[49m\u001b[43m.\u001b[49m\u001b[43mcreate_run\u001b[49m\u001b[43m(\u001b[49m\u001b[43mexperiment_id\u001b[49m\u001b[43m,\u001b[49m\u001b[43m \u001b[49m\u001b[43mstart_time\u001b[49m\u001b[43m,\u001b[49m\u001b[43m \u001b[49m\u001b[43mtags\u001b[49m\u001b[43m,\u001b[49m\u001b[43m \u001b[49m\u001b[43mrun_name\u001b[49m\u001b[43m)\u001b[49m\n",
      "\u001b[36mFile \u001b[39m\u001b[32mc:\\Users\\nagar\\OneDrive\\Desktop\\projects\\FD\\fruad_detection\\fruad_env\\Lib\\site-packages\\mlflow\\tracking\\_tracking_service\\client.py:161\u001b[39m, in \u001b[36mTrackingServiceClient.create_run\u001b[39m\u001b[34m(self, experiment_id, start_time, tags, run_name)\u001b[39m\n\u001b[32m    156\u001b[39m \u001b[38;5;66;03m# Extract user from tags\u001b[39;00m\n\u001b[32m    157\u001b[39m \u001b[38;5;66;03m# This logic is temporary; the user_id attribute of runs is deprecated and will be removed\u001b[39;00m\n\u001b[32m    158\u001b[39m \u001b[38;5;66;03m# in a later release.\u001b[39;00m\n\u001b[32m    159\u001b[39m user_id = tags.get(MLFLOW_USER, \u001b[33m\"\u001b[39m\u001b[33munknown\u001b[39m\u001b[33m\"\u001b[39m)\n\u001b[32m--> \u001b[39m\u001b[32m161\u001b[39m \u001b[38;5;28;01mreturn\u001b[39;00m \u001b[38;5;28;43mself\u001b[39;49m\u001b[43m.\u001b[49m\u001b[43mstore\u001b[49m\u001b[43m.\u001b[49m\u001b[43mcreate_run\u001b[49m\u001b[43m(\u001b[49m\n\u001b[32m    162\u001b[39m \u001b[43m    \u001b[49m\u001b[43mexperiment_id\u001b[49m\u001b[43m=\u001b[49m\u001b[43mexperiment_id\u001b[49m\u001b[43m,\u001b[49m\n\u001b[32m    163\u001b[39m \u001b[43m    \u001b[49m\u001b[43muser_id\u001b[49m\u001b[43m=\u001b[49m\u001b[43muser_id\u001b[49m\u001b[43m,\u001b[49m\n\u001b[32m    164\u001b[39m \u001b[43m    \u001b[49m\u001b[43mstart_time\u001b[49m\u001b[43m=\u001b[49m\u001b[43mstart_time\u001b[49m\u001b[43m \u001b[49m\u001b[38;5;129;43;01mor\u001b[39;49;00m\u001b[43m \u001b[49m\u001b[43mget_current_time_millis\u001b[49m\u001b[43m(\u001b[49m\u001b[43m)\u001b[49m\u001b[43m,\u001b[49m\n\u001b[32m    165\u001b[39m \u001b[43m    \u001b[49m\u001b[43mtags\u001b[49m\u001b[43m=\u001b[49m\u001b[43m[\u001b[49m\u001b[43mRunTag\u001b[49m\u001b[43m(\u001b[49m\u001b[43mkey\u001b[49m\u001b[43m,\u001b[49m\u001b[43m \u001b[49m\u001b[43mvalue\u001b[49m\u001b[43m)\u001b[49m\u001b[43m \u001b[49m\u001b[38;5;28;43;01mfor\u001b[39;49;00m\u001b[43m \u001b[49m\u001b[43m(\u001b[49m\u001b[43mkey\u001b[49m\u001b[43m,\u001b[49m\u001b[43m \u001b[49m\u001b[43mvalue\u001b[49m\u001b[43m)\u001b[49m\u001b[43m \u001b[49m\u001b[38;5;129;43;01min\u001b[39;49;00m\u001b[43m \u001b[49m\u001b[43mtags\u001b[49m\u001b[43m.\u001b[49m\u001b[43mitems\u001b[49m\u001b[43m(\u001b[49m\u001b[43m)\u001b[49m\u001b[43m]\u001b[49m\u001b[43m,\u001b[49m\n\u001b[32m    166\u001b[39m \u001b[43m    \u001b[49m\u001b[43mrun_name\u001b[49m\u001b[43m=\u001b[49m\u001b[43mrun_name\u001b[49m\u001b[43m,\u001b[49m\n\u001b[32m    167\u001b[39m \u001b[43m\u001b[49m\u001b[43m)\u001b[49m\n",
      "\u001b[36mFile \u001b[39m\u001b[32mc:\\Users\\nagar\\OneDrive\\Desktop\\projects\\FD\\fruad_detection\\fruad_env\\Lib\\site-packages\\mlflow\\store\\tracking\\rest_store.py:262\u001b[39m, in \u001b[36mRestStore.create_run\u001b[39m\u001b[34m(self, experiment_id, user_id, start_time, tags, run_name)\u001b[39m\n\u001b[32m    246\u001b[39m \u001b[38;5;28;01mdef\u001b[39;00m\u001b[38;5;250m \u001b[39m\u001b[34mcreate_run\u001b[39m(\u001b[38;5;28mself\u001b[39m, experiment_id, user_id, start_time, tags, run_name):\n\u001b[32m    247\u001b[39m \u001b[38;5;250m    \u001b[39m\u001b[33;03m\"\"\"\u001b[39;00m\n\u001b[32m    248\u001b[39m \u001b[33;03m    Create a run under the specified experiment ID, setting the run's status to \"RUNNING\"\u001b[39;00m\n\u001b[32m    249\u001b[39m \u001b[33;03m    and the start time to the current time.\u001b[39;00m\n\u001b[32m   (...)\u001b[39m\u001b[32m    259\u001b[39m \u001b[33;03m        The created Run object.\u001b[39;00m\n\u001b[32m    260\u001b[39m \u001b[33;03m    \"\"\"\u001b[39;00m\n\u001b[32m--> \u001b[39m\u001b[32m262\u001b[39m     tag_protos = \u001b[43m[\u001b[49m\u001b[43mtag\u001b[49m\u001b[43m.\u001b[49m\u001b[43mto_proto\u001b[49m\u001b[43m(\u001b[49m\u001b[43m)\u001b[49m\u001b[43m \u001b[49m\u001b[38;5;28;43;01mfor\u001b[39;49;00m\u001b[43m \u001b[49m\u001b[43mtag\u001b[49m\u001b[43m \u001b[49m\u001b[38;5;129;43;01min\u001b[39;49;00m\u001b[43m \u001b[49m\u001b[43mtags\u001b[49m\u001b[43m]\u001b[49m\n\u001b[32m    263\u001b[39m     req_body = message_to_json(\n\u001b[32m    264\u001b[39m         CreateRun(\n\u001b[32m    265\u001b[39m             experiment_id=\u001b[38;5;28mstr\u001b[39m(experiment_id),\n\u001b[32m   (...)\u001b[39m\u001b[32m    270\u001b[39m         )\n\u001b[32m    271\u001b[39m     )\n\u001b[32m    272\u001b[39m     response_proto = \u001b[38;5;28mself\u001b[39m._call_endpoint(CreateRun, req_body)\n",
      "\u001b[36mFile \u001b[39m\u001b[32mc:\\Users\\nagar\\OneDrive\\Desktop\\projects\\FD\\fruad_detection\\fruad_env\\Lib\\site-packages\\mlflow\\store\\tracking\\rest_store.py:262\u001b[39m, in \u001b[36m<listcomp>\u001b[39m\u001b[34m(.0)\u001b[39m\n\u001b[32m    246\u001b[39m \u001b[38;5;28;01mdef\u001b[39;00m\u001b[38;5;250m \u001b[39m\u001b[34mcreate_run\u001b[39m(\u001b[38;5;28mself\u001b[39m, experiment_id, user_id, start_time, tags, run_name):\n\u001b[32m    247\u001b[39m \u001b[38;5;250m    \u001b[39m\u001b[33;03m\"\"\"\u001b[39;00m\n\u001b[32m    248\u001b[39m \u001b[33;03m    Create a run under the specified experiment ID, setting the run's status to \"RUNNING\"\u001b[39;00m\n\u001b[32m    249\u001b[39m \u001b[33;03m    and the start time to the current time.\u001b[39;00m\n\u001b[32m   (...)\u001b[39m\u001b[32m    259\u001b[39m \u001b[33;03m        The created Run object.\u001b[39;00m\n\u001b[32m    260\u001b[39m \u001b[33;03m    \"\"\"\u001b[39;00m\n\u001b[32m--> \u001b[39m\u001b[32m262\u001b[39m     tag_protos = [\u001b[43mtag\u001b[49m\u001b[43m.\u001b[49m\u001b[43mto_proto\u001b[49m\u001b[43m(\u001b[49m\u001b[43m)\u001b[49m \u001b[38;5;28;01mfor\u001b[39;00m tag \u001b[38;5;129;01min\u001b[39;00m tags]\n\u001b[32m    263\u001b[39m     req_body = message_to_json(\n\u001b[32m    264\u001b[39m         CreateRun(\n\u001b[32m    265\u001b[39m             experiment_id=\u001b[38;5;28mstr\u001b[39m(experiment_id),\n\u001b[32m   (...)\u001b[39m\u001b[32m    270\u001b[39m         )\n\u001b[32m    271\u001b[39m     )\n\u001b[32m    272\u001b[39m     response_proto = \u001b[38;5;28mself\u001b[39m._call_endpoint(CreateRun, req_body)\n",
      "\u001b[36mFile \u001b[39m\u001b[32mc:\\Users\\nagar\\OneDrive\\Desktop\\projects\\FD\\fruad_detection\\fruad_env\\Lib\\site-packages\\mlflow\\entities\\run_tag.py:31\u001b[39m, in \u001b[36mRunTag.to_proto\u001b[39m\u001b[34m(self)\u001b[39m\n\u001b[32m     29\u001b[39m param = ProtoRunTag()\n\u001b[32m     30\u001b[39m param.key = \u001b[38;5;28mself\u001b[39m.key\n\u001b[32m---> \u001b[39m\u001b[32m31\u001b[39m \u001b[43mparam\u001b[49m\u001b[43m.\u001b[49m\u001b[43mvalue\u001b[49m = \u001b[38;5;28mself\u001b[39m.value\n\u001b[32m     32\u001b[39m \u001b[38;5;28;01mreturn\u001b[39;00m param\n",
      "\u001b[31mTypeError\u001b[39m: bad argument type for built-in operation"
     ]
    }
   ],
   "source": [
    "# ========================== EXECUTION ==========================\n",
    "if __name__ == \"__main__\":\n",
    "    \n",
    "    train_and_evaluate(df)\n"
   ]
  },
  {
   "cell_type": "code",
   "execution_count": null,
   "id": "a1403452",
   "metadata": {},
   "outputs": [
    {
     "ename": "NameError",
     "evalue": "name 'LogisticRegression' is not defined",
     "output_type": "error",
     "traceback": [
      "\u001b[31m---------------------------------------------------------------------------\u001b[39m",
      "\u001b[31mNameError\u001b[39m                                 Traceback (most recent call last)",
      "\u001b[36mCell\u001b[39m\u001b[36m \u001b[39m\u001b[32mIn[6]\u001b[39m\u001b[32m, line 2\u001b[39m\n\u001b[32m      1\u001b[39m ALGORITHMS = {\n\u001b[32m----> \u001b[39m\u001b[32m2\u001b[39m     \u001b[33m'\u001b[39m\u001b[33mLogisticRegression\u001b[39m\u001b[33m'\u001b[39m: \u001b[43mLogisticRegression\u001b[49m(),\n\u001b[32m      3\u001b[39m     \u001b[33m'\u001b[39m\u001b[33mRandomForest\u001b[39m\u001b[33m'\u001b[39m: RandomForestClassifier(),\n\u001b[32m      4\u001b[39m     \u001b[33m'\u001b[39m\u001b[33mGradientBoosting\u001b[39m\u001b[33m'\u001b[39m: GradientBoostingClassifier(),\n\u001b[32m      5\u001b[39m }\n",
      "\u001b[31mNameError\u001b[39m: name 'LogisticRegression' is not defined"
     ]
    }
   ],
   "source": []
  },
  {
   "cell_type": "code",
   "execution_count": null,
   "id": "54059847",
   "metadata": {},
   "outputs": [],
   "source": []
  },
  {
   "cell_type": "code",
   "execution_count": null,
   "id": "d5553d99",
   "metadata": {},
   "outputs": [],
   "source": [
    "def evaluate_model(true,pred):\n",
    "    acc=accuracy_score(true,pred)\n",
    "    f1=f1_score(true,pred)\n",
    "    p_score=precision_score(true,pred)\n",
    "\n",
    "    return acc, f1, p_score"
   ]
  },
  {
   "cell_type": "code",
   "execution_count": null,
   "id": "56a6bde5",
   "metadata": {},
   "outputs": [],
   "source": [
    "for i in range(len(list(models))):\n",
    "    model=list(models.values())[i]\n",
    "    \n",
    "    model.fit(X_train,y_train)\n",
    "\n",
    "    #make_prediction\n",
    "    y_pred=model.predict(X_test)\n",
    "\n",
    "    #this is for the validaiton\n",
    "    acc, f1, p_score = evaluate_model(y_test,y_pred)"
   ]
  },
  {
   "cell_type": "code",
   "execution_count": null,
   "id": "8a8860d4",
   "metadata": {},
   "outputs": [],
   "source": []
  }
 ],
 "metadata": {
  "kernelspec": {
   "display_name": "fruad_env",
   "language": "python",
   "name": "python3"
  },
  "language_info": {
   "codemirror_mode": {
    "name": "ipython",
    "version": 3
   },
   "file_extension": ".py",
   "mimetype": "text/x-python",
   "name": "python",
   "nbconvert_exporter": "python",
   "pygments_lexer": "ipython3",
   "version": "3.11.4"
  }
 },
 "nbformat": 4,
 "nbformat_minor": 5
}
