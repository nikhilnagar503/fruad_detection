{
 "cells": [
  {
   "cell_type": "code",
   "execution_count": 2,
   "id": "2546cad5",
   "metadata": {},
   "outputs": [],
   "source": [
    "import pandas as pd\n",
    "import numpy as np\n",
    "import seaborn as sns\n",
    "import os\n",
    "from sklearn.impute import SimpleImputer\n",
    "from sklearn.preprocessing import OrdinalEncoder\n",
    "from sklearn.preprocessing import RobustScaler\n",
    "from sklearn.pipeline import Pipeline\n",
    "\n",
    "from sklearn.compose import ColumnTransformer\n",
    "\n"
   ]
  },
  {
   "cell_type": "code",
   "execution_count": null,
   "id": "eac8ffe8",
   "metadata": {},
   "outputs": [],
   "source": []
  },
  {
   "cell_type": "code",
   "execution_count": 3,
   "id": "57ab1efe",
   "metadata": {},
   "outputs": [],
   "source": [
    "df = pd.read_csv(\"C:\\\\Users\\\\nagar\\\\OneDrive\\\\Desktop\\\\unified mentor\\\\Projects\\\\fraud_detection\\\\fruad_detection\\\\notebooks\\\\Base.csv\")"
   ]
  },
  {
   "cell_type": "code",
   "execution_count": 4,
   "id": "b02b426c",
   "metadata": {},
   "outputs": [
    {
     "data": {
      "text/plain": [
       "(1000000, 32)"
      ]
     },
     "execution_count": 4,
     "metadata": {},
     "output_type": "execute_result"
    }
   ],
   "source": [
    "df.shape"
   ]
  },
  {
   "cell_type": "code",
   "execution_count": 5,
   "id": "d134ccb2",
   "metadata": {},
   "outputs": [
    {
     "data": {
      "text/html": [
       "<div>\n",
       "<style scoped>\n",
       "    .dataframe tbody tr th:only-of-type {\n",
       "        vertical-align: middle;\n",
       "    }\n",
       "\n",
       "    .dataframe tbody tr th {\n",
       "        vertical-align: top;\n",
       "    }\n",
       "\n",
       "    .dataframe thead th {\n",
       "        text-align: right;\n",
       "    }\n",
       "</style>\n",
       "<table border=\"1\" class=\"dataframe\">\n",
       "  <thead>\n",
       "    <tr style=\"text-align: right;\">\n",
       "      <th></th>\n",
       "      <th>fraud_bool</th>\n",
       "      <th>income</th>\n",
       "      <th>name_email_similarity</th>\n",
       "      <th>prev_address_months_count</th>\n",
       "      <th>current_address_months_count</th>\n",
       "      <th>customer_age</th>\n",
       "      <th>days_since_request</th>\n",
       "      <th>intended_balcon_amount</th>\n",
       "      <th>payment_type</th>\n",
       "      <th>zip_count_4w</th>\n",
       "      <th>...</th>\n",
       "      <th>has_other_cards</th>\n",
       "      <th>proposed_credit_limit</th>\n",
       "      <th>foreign_request</th>\n",
       "      <th>source</th>\n",
       "      <th>session_length_in_minutes</th>\n",
       "      <th>device_os</th>\n",
       "      <th>keep_alive_session</th>\n",
       "      <th>device_distinct_emails_8w</th>\n",
       "      <th>device_fraud_count</th>\n",
       "      <th>month</th>\n",
       "    </tr>\n",
       "  </thead>\n",
       "  <tbody>\n",
       "    <tr>\n",
       "      <th>0</th>\n",
       "      <td>0</td>\n",
       "      <td>0.3</td>\n",
       "      <td>0.986506</td>\n",
       "      <td>-1</td>\n",
       "      <td>25</td>\n",
       "      <td>40</td>\n",
       "      <td>0.006735</td>\n",
       "      <td>102.453711</td>\n",
       "      <td>AA</td>\n",
       "      <td>1059</td>\n",
       "      <td>...</td>\n",
       "      <td>0</td>\n",
       "      <td>1500.0</td>\n",
       "      <td>0</td>\n",
       "      <td>INTERNET</td>\n",
       "      <td>16.224843</td>\n",
       "      <td>linux</td>\n",
       "      <td>1</td>\n",
       "      <td>1</td>\n",
       "      <td>0</td>\n",
       "      <td>0</td>\n",
       "    </tr>\n",
       "    <tr>\n",
       "      <th>1</th>\n",
       "      <td>0</td>\n",
       "      <td>0.8</td>\n",
       "      <td>0.617426</td>\n",
       "      <td>-1</td>\n",
       "      <td>89</td>\n",
       "      <td>20</td>\n",
       "      <td>0.010095</td>\n",
       "      <td>-0.849551</td>\n",
       "      <td>AD</td>\n",
       "      <td>1658</td>\n",
       "      <td>...</td>\n",
       "      <td>0</td>\n",
       "      <td>1500.0</td>\n",
       "      <td>0</td>\n",
       "      <td>INTERNET</td>\n",
       "      <td>3.363854</td>\n",
       "      <td>other</td>\n",
       "      <td>1</td>\n",
       "      <td>1</td>\n",
       "      <td>0</td>\n",
       "      <td>0</td>\n",
       "    </tr>\n",
       "    <tr>\n",
       "      <th>2</th>\n",
       "      <td>0</td>\n",
       "      <td>0.8</td>\n",
       "      <td>0.996707</td>\n",
       "      <td>9</td>\n",
       "      <td>14</td>\n",
       "      <td>40</td>\n",
       "      <td>0.012316</td>\n",
       "      <td>-1.490386</td>\n",
       "      <td>AB</td>\n",
       "      <td>1095</td>\n",
       "      <td>...</td>\n",
       "      <td>0</td>\n",
       "      <td>200.0</td>\n",
       "      <td>0</td>\n",
       "      <td>INTERNET</td>\n",
       "      <td>22.730559</td>\n",
       "      <td>windows</td>\n",
       "      <td>0</td>\n",
       "      <td>1</td>\n",
       "      <td>0</td>\n",
       "      <td>0</td>\n",
       "    </tr>\n",
       "    <tr>\n",
       "      <th>3</th>\n",
       "      <td>0</td>\n",
       "      <td>0.6</td>\n",
       "      <td>0.475100</td>\n",
       "      <td>11</td>\n",
       "      <td>14</td>\n",
       "      <td>30</td>\n",
       "      <td>0.006991</td>\n",
       "      <td>-1.863101</td>\n",
       "      <td>AB</td>\n",
       "      <td>3483</td>\n",
       "      <td>...</td>\n",
       "      <td>0</td>\n",
       "      <td>200.0</td>\n",
       "      <td>0</td>\n",
       "      <td>INTERNET</td>\n",
       "      <td>15.215816</td>\n",
       "      <td>linux</td>\n",
       "      <td>1</td>\n",
       "      <td>1</td>\n",
       "      <td>0</td>\n",
       "      <td>0</td>\n",
       "    </tr>\n",
       "    <tr>\n",
       "      <th>4</th>\n",
       "      <td>0</td>\n",
       "      <td>0.9</td>\n",
       "      <td>0.842307</td>\n",
       "      <td>-1</td>\n",
       "      <td>29</td>\n",
       "      <td>40</td>\n",
       "      <td>5.742626</td>\n",
       "      <td>47.152498</td>\n",
       "      <td>AA</td>\n",
       "      <td>2339</td>\n",
       "      <td>...</td>\n",
       "      <td>0</td>\n",
       "      <td>200.0</td>\n",
       "      <td>0</td>\n",
       "      <td>INTERNET</td>\n",
       "      <td>3.743048</td>\n",
       "      <td>other</td>\n",
       "      <td>0</td>\n",
       "      <td>1</td>\n",
       "      <td>0</td>\n",
       "      <td>0</td>\n",
       "    </tr>\n",
       "  </tbody>\n",
       "</table>\n",
       "<p>5 rows × 32 columns</p>\n",
       "</div>"
      ],
      "text/plain": [
       "   fraud_bool  income  name_email_similarity  prev_address_months_count  \\\n",
       "0           0     0.3               0.986506                         -1   \n",
       "1           0     0.8               0.617426                         -1   \n",
       "2           0     0.8               0.996707                          9   \n",
       "3           0     0.6               0.475100                         11   \n",
       "4           0     0.9               0.842307                         -1   \n",
       "\n",
       "   current_address_months_count  customer_age  days_since_request  \\\n",
       "0                            25            40            0.006735   \n",
       "1                            89            20            0.010095   \n",
       "2                            14            40            0.012316   \n",
       "3                            14            30            0.006991   \n",
       "4                            29            40            5.742626   \n",
       "\n",
       "   intended_balcon_amount payment_type  zip_count_4w  ...  has_other_cards  \\\n",
       "0              102.453711           AA          1059  ...                0   \n",
       "1               -0.849551           AD          1658  ...                0   \n",
       "2               -1.490386           AB          1095  ...                0   \n",
       "3               -1.863101           AB          3483  ...                0   \n",
       "4               47.152498           AA          2339  ...                0   \n",
       "\n",
       "   proposed_credit_limit  foreign_request    source  \\\n",
       "0                 1500.0                0  INTERNET   \n",
       "1                 1500.0                0  INTERNET   \n",
       "2                  200.0                0  INTERNET   \n",
       "3                  200.0                0  INTERNET   \n",
       "4                  200.0                0  INTERNET   \n",
       "\n",
       "   session_length_in_minutes device_os  keep_alive_session  \\\n",
       "0                  16.224843     linux                   1   \n",
       "1                   3.363854     other                   1   \n",
       "2                  22.730559   windows                   0   \n",
       "3                  15.215816     linux                   1   \n",
       "4                   3.743048     other                   0   \n",
       "\n",
       "   device_distinct_emails_8w device_fraud_count  month  \n",
       "0                          1                  0      0  \n",
       "1                          1                  0      0  \n",
       "2                          1                  0      0  \n",
       "3                          1                  0      0  \n",
       "4                          1                  0      0  \n",
       "\n",
       "[5 rows x 32 columns]"
      ]
     },
     "execution_count": 5,
     "metadata": {},
     "output_type": "execute_result"
    }
   ],
   "source": [
    "df.head()"
   ]
  },
  {
   "cell_type": "code",
   "execution_count": 6,
   "id": "ac22a657",
   "metadata": {},
   "outputs": [
    {
     "data": {
      "text/plain": [
       "Index(['fraud_bool', 'income', 'name_email_similarity',\n",
       "       'prev_address_months_count', 'current_address_months_count',\n",
       "       'customer_age', 'days_since_request', 'intended_balcon_amount',\n",
       "       'payment_type', 'zip_count_4w', 'velocity_6h', 'velocity_24h',\n",
       "       'velocity_4w', 'bank_branch_count_8w',\n",
       "       'date_of_birth_distinct_emails_4w', 'employment_status',\n",
       "       'credit_risk_score', 'email_is_free', 'housing_status',\n",
       "       'phone_home_valid', 'phone_mobile_valid', 'bank_months_count',\n",
       "       'has_other_cards', 'proposed_credit_limit', 'foreign_request', 'source',\n",
       "       'session_length_in_minutes', 'device_os', 'keep_alive_session',\n",
       "       'device_distinct_emails_8w', 'device_fraud_count', 'month'],\n",
       "      dtype='object')"
      ]
     },
     "execution_count": 6,
     "metadata": {},
     "output_type": "execute_result"
    }
   ],
   "source": [
    "df.columns"
   ]
  },
  {
   "cell_type": "markdown",
   "id": "54db8fee",
   "metadata": {},
   "source": [
    "| **Feature Name**                  | **Meaning**                                                                 |\n",
    "|----------------------------------|------------------------------------------------------------------------------|\n",
    "| `fraud_bool`                     | 1 = fraud, 0 = not fraud. This is what your model will learn to predict.    |\n",
    "| `income`                         | The person’s income. Lower or very high income might show different fraud risk. |\n",
    "| `name_email_similarity`          | How similar the person’s name is to the email. Fake profiles often use mismatched names and emails. |\n",
    "| `prev_address_months_count`      | How long the person stayed at the previous address (in months). Fraudsters often change addresses quickly. |\n",
    "| `current_address_months_count`   | Time spent at the current address. Longer = more stable.                    |\n",
    "| `customer_age`                   | Age of the customer. Certain fraud patterns target specific age groups.     |\n",
    "| `days_since_request`             | Days passed since the loan/account/etc. was requested.                      |\n",
    "| `intended_balcon_amount`         | The amount the person wants (loan amount, maybe). Larger amounts are higher risk. |\n",
    "| `payment_type`                   | How the payment will be made (e.g., credit card, bank transfer). Some types are riskier. |\n",
    "| `zip_count_4w`                   | Number of people with same ZIP code in last 4 weeks. High number = maybe multiple fake accounts. |\n",
    "| `velocity_6h` / `24h` / `4w`     | Number of transactions in that time frame. High velocity = suspicious behavior (like bots). |\n",
    "| `bank_branch_count_8w`           | How many bank branches this person interacted with in last 8 weeks.         |\n",
    "| `date_of_birth_distinct_emails_4w` | How many different emails used with same DOB — if high, might be identity theft. |\n",
    "| `employment_status`              | Job status (Employed, Unemployed, Student, etc.).                           |\n",
    "| `credit_risk_score`              | A score that tells how likely this person will repay money. Lower = risky.  |\n",
    "| `email_is_free`                  | Is the email from a free service (like Gmail/Yahoo)? Free = easier to fake. |\n",
    "| `housing_status`                 | Owns home, rents, etc.                                                      |\n",
    "| `phone_home_valid`               | Is the home phone number valid?                                             |\n",
    "| `phone_mobile_valid`             | Is the mobile number valid?                                                 |\n",
    "| `bank_months_count`              | How long the person has had their bank account. New accounts = higher risk. |\n",
    "| `has_other_cards`                | Does the person have other credit cards? Might reduce risk (or increase, based on pattern). |\n",
    "| `proposed_credit_limit`          | Requested credit limit. Again, high values = potential risk.                |\n",
    "| `foreign_request`                | Was the request made from a foreign country? Often suspicious.              |\n",
    "| `source`                         | Where the request came from (mobile app, website, etc.).                    |\n",
    "| `session_length_in_minutes`      | How long the session lasted. Very short sessions might be bots.             |\n",
    "| `device_os`                      | What OS the user used (Windows, Android, etc.). Can help detect automated devices. |\n",
    "| `keep_alive_session`             | Whether the session stayed alive (auto-refreshing).                         |\n",
    "| `device_distinct_emails_8w`      | How many different emails used the same device in 8 weeks — common for fraud. |\n",
    "| `device_fraud_count`             | How many times this device has been linked to past frauds. Very powerful feature. |\n",
    "| `month`                          | The calendar month of the request. Fraud may spike during certain seasons (sales, festivals, etc.). |\n"
   ]
  },
  {
   "cell_type": "code",
   "execution_count": 7,
   "id": "a67a257b",
   "metadata": {},
   "outputs": [
    {
     "data": {
      "text/plain": [
       "fraud_bool\n",
       "0    988971\n",
       "1     11029\n",
       "Name: count, dtype: int64"
      ]
     },
     "execution_count": 7,
     "metadata": {},
     "output_type": "execute_result"
    }
   ],
   "source": [
    "df.fraud_bool.value_counts()"
   ]
  },
  {
   "cell_type": "code",
   "execution_count": 8,
   "id": "b2916673",
   "metadata": {},
   "outputs": [],
   "source": [
    "df.rename(columns={\n",
    "    'name_email_similarity': 'name_email_match_score',\n",
    "    \n",
    "    'prev_address_months_count': 'prev_address_duration',\n",
    "\n",
    "    'current_address_months_count': 'curr_address_duration',\n",
    "\n",
    "    'intended_balcon_amount': 'intended_loan_amount',\n",
    "\n",
    "    'zip_count_4w': 'zip_activity_4w',\n",
    "\n",
    "    'velocity_6h': 'tx_velocity_6h',\n",
    "\n",
    "    'velocity_24h': 'tx_velocity_24h',\n",
    "\n",
    "    'velocity_4w': 'tx_velocity_4w',\n",
    "\n",
    "    'date_of_birth_distinct_emails_4w': 'dob_unique_emails_4w',\n",
    "\n",
    "    'bank_branch_count_8w': 'branches_used_8w',\n",
    "\n",
    "    'email_is_free': 'is_free_email',\n",
    "\n",
    "    'keep_alive_session': 'session_auto_active',\n",
    "\n",
    "    'device_distinct_emails_8w': 'device_unique_emails_8w',\n",
    "\n",
    "    'device_fraud_count': 'device_fraud_history',\n",
    "    \n",
    "    'fraud_bool': 'fraud',\n",
    "\n",
    "    'customer_age': 'age',\n",
    "    \n",
    "    'credit_risk_score': 'credit_score',\n",
    "}, inplace=True)\n"
   ]
  },
  {
   "cell_type": "code",
   "execution_count": 9,
   "id": "e71912d5",
   "metadata": {},
   "outputs": [
    {
     "name": "stdout",
     "output_type": "stream",
     "text": [
      "<class 'pandas.core.frame.DataFrame'>\n",
      "RangeIndex: 1000000 entries, 0 to 999999\n",
      "Data columns (total 32 columns):\n",
      " #   Column                     Non-Null Count    Dtype  \n",
      "---  ------                     --------------    -----  \n",
      " 0   fraud                      1000000 non-null  int64  \n",
      " 1   income                     1000000 non-null  float64\n",
      " 2   name_email_match_score     1000000 non-null  float64\n",
      " 3   prev_address_duration      1000000 non-null  int64  \n",
      " 4   curr_address_duration      1000000 non-null  int64  \n",
      " 5   age                        1000000 non-null  int64  \n",
      " 6   days_since_request         1000000 non-null  float64\n",
      " 7   intended_loan_amount       1000000 non-null  float64\n",
      " 8   payment_type               1000000 non-null  object \n",
      " 9   zip_activity_4w            1000000 non-null  int64  \n",
      " 10  tx_velocity_6h             1000000 non-null  float64\n",
      " 11  tx_velocity_24h            1000000 non-null  float64\n",
      " 12  tx_velocity_4w             1000000 non-null  float64\n",
      " 13  branches_used_8w           1000000 non-null  int64  \n",
      " 14  dob_unique_emails_4w       1000000 non-null  int64  \n",
      " 15  employment_status          1000000 non-null  object \n",
      " 16  credit_score               1000000 non-null  int64  \n",
      " 17  is_free_email              1000000 non-null  int64  \n",
      " 18  housing_status             1000000 non-null  object \n",
      " 19  phone_home_valid           1000000 non-null  int64  \n",
      " 20  phone_mobile_valid         1000000 non-null  int64  \n",
      " 21  bank_months_count          1000000 non-null  int64  \n",
      " 22  has_other_cards            1000000 non-null  int64  \n",
      " 23  proposed_credit_limit      1000000 non-null  float64\n",
      " 24  foreign_request            1000000 non-null  int64  \n",
      " 25  source                     1000000 non-null  object \n",
      " 26  session_length_in_minutes  1000000 non-null  float64\n",
      " 27  device_os                  1000000 non-null  object \n",
      " 28  session_auto_active        1000000 non-null  int64  \n",
      " 29  device_unique_emails_8w    1000000 non-null  int64  \n",
      " 30  device_fraud_history       1000000 non-null  int64  \n",
      " 31  month                      1000000 non-null  int64  \n",
      "dtypes: float64(9), int64(18), object(5)\n",
      "memory usage: 244.1+ MB\n"
     ]
    }
   ],
   "source": [
    "## Check the metadata\n",
    "\n",
    "df.info()"
   ]
  },
  {
   "cell_type": "code",
   "execution_count": 10,
   "id": "6eaf0855",
   "metadata": {},
   "outputs": [
    {
     "data": {
      "text/plain": [
       "fraud                        0\n",
       "income                       0\n",
       "name_email_match_score       0\n",
       "prev_address_duration        0\n",
       "curr_address_duration        0\n",
       "age                          0\n",
       "days_since_request           0\n",
       "intended_loan_amount         0\n",
       "payment_type                 0\n",
       "zip_activity_4w              0\n",
       "tx_velocity_6h               0\n",
       "tx_velocity_24h              0\n",
       "tx_velocity_4w               0\n",
       "branches_used_8w             0\n",
       "dob_unique_emails_4w         0\n",
       "employment_status            0\n",
       "credit_score                 0\n",
       "is_free_email                0\n",
       "housing_status               0\n",
       "phone_home_valid             0\n",
       "phone_mobile_valid           0\n",
       "bank_months_count            0\n",
       "has_other_cards              0\n",
       "proposed_credit_limit        0\n",
       "foreign_request              0\n",
       "source                       0\n",
       "session_length_in_minutes    0\n",
       "device_os                    0\n",
       "session_auto_active          0\n",
       "device_unique_emails_8w      0\n",
       "device_fraud_history         0\n",
       "month                        0\n",
       "dtype: int64"
      ]
     },
     "execution_count": 10,
     "metadata": {},
     "output_type": "execute_result"
    }
   ],
   "source": [
    "## Checking for missing values\n",
    "\n",
    "df.isnull().sum()"
   ]
  },
  {
   "cell_type": "code",
   "execution_count": 11,
   "id": "7b0e3e77",
   "metadata": {},
   "outputs": [
    {
     "data": {
      "text/plain": [
       "np.int64(0)"
      ]
     },
     "execution_count": 11,
     "metadata": {},
     "output_type": "execute_result"
    }
   ],
   "source": [
    "df.duplicated().sum()"
   ]
  },
  {
   "cell_type": "code",
   "execution_count": 12,
   "id": "279211e3",
   "metadata": {},
   "outputs": [
    {
     "data": {
      "text/plain": [
       "<Axes: xlabel='fraud', ylabel='count'>"
      ]
     },
     "execution_count": 12,
     "metadata": {},
     "output_type": "execute_result"
    },
    {
     "data": {
      "image/png": "[encoded data removed]",
      "text/plain": [
       "<Figure size 640x480 with 1 Axes>"
      ]
     },
     "metadata": {},
     "output_type": "display_data"
    }
   ],
   "source": [
    "sns.countplot(data=df, x='fraud')"
   ]
  },
  {
   "cell_type": "markdown",
   "id": "8c7b4a2f",
   "metadata": {},
   "source": [
    "**We can clearly see that this data is highly imbalanced containing 988971 records for non-fraud (0) transactions and 11029 records for fraud (1) transactions.**\n",
    "\n",
    "Q. What is Imbalanced Dataset?\n",
    "- Dataset in which the classes or categories are not represented equally\n",
    "\n",
    "Q. What problems are caused by highly Imbalanced dataset?\n",
    "- Biased Model Predictions – The model becomes biased towards the majority class and fails to correctly classify the minority class.\n",
    "- Poor Recall for Minority Class – The model might achieve high accuracy but perform poorly in detecting the minority class (high false negatives).\n",
    "- Misleading Performance Metrics – Accuracy can be deceptive; a model predicting only the majority class can still have high accuracy but be useless for real-world applications.\n",
    "\n",
    "***We will use Under Sampling method to make it balanced. We will take 11029 records for fraud (1) transactions and 11029 records for non-fraud (0) transactions***\n",
    "\n",
    "And use this new data frame for model building"
   ]
  },
  {
   "cell_type": "code",
   "execution_count": 13,
   "id": "69c2c50d",
   "metadata": {},
   "outputs": [
    {
     "name": "stdout",
     "output_type": "stream",
     "text": [
      "Shape of dataframe containing normal (non-fraud) transactions :  (988971, 32)\n",
      "Shape of dataframe containing fraud transactions :  (11029, 32)\n"
     ]
    }
   ],
   "source": [
    "non_fruad = df[df['fraud'] != 1]\n",
    "fruad = df[df['fraud'] == 1]\n",
    "\n",
    "print(\"Shape of dataframe containing normal (non-fraud) transactions : \",non_fruad.shape) # Display the number of normal and fraud transactions\n",
    "print(\"Shape of dataframe containing fraud transactions : \",fruad.shape)    "
   ]
  },
  {
   "cell_type": "code",
   "execution_count": 14,
   "id": "68c82ec3",
   "metadata": {},
   "outputs": [
    {
     "name": "stdout",
     "output_type": "stream",
     "text": [
      "Shape of undersampled normal transactions :  (11029, 32)\n"
     ]
    }
   ],
   "source": [
    "from sklearn.utils import resample\n",
    "non_fruad_under_sample = resample(non_fruad,replace=False,n_samples = len(fruad),random_state=27)\n",
    "\n",
    "print(\"Shape of undersampled normal transactions : \",non_fruad_under_sample.shape)"
   ]
  },
  {
   "cell_type": "code",
   "execution_count": 15,
   "id": "62ba6809",
   "metadata": {},
   "outputs": [
    {
     "data": {
      "text/plain": [
       "fraud\n",
       "0    11029\n",
       "1    11029\n",
       "Name: count, dtype: int64"
      ]
     },
     "execution_count": 15,
     "metadata": {},
     "output_type": "execute_result"
    }
   ],
   "source": [
    "new_df = pd.concat([non_fruad_under_sample,fruad])\n",
    "new_df.fraud.value_counts()"
   ]
  },
  {
   "cell_type": "code",
   "execution_count": 16,
   "id": "66286d0c",
   "metadata": {},
   "outputs": [],
   "source": [
    "new_df.to_csv('data.csv', index = False) "
   ]
  },
  {
   "cell_type": "code",
   "execution_count": 17,
   "id": "d1d8c3cb",
   "metadata": {},
   "outputs": [],
   "source": [
    "df = pd.read_csv('data.csv')"
   ]
  },
  {
   "cell_type": "code",
   "execution_count": 18,
   "id": "e2cd1ff5",
   "metadata": {},
   "outputs": [
    {
     "data": {
      "text/html": [
       "<div>\n",
       "<style scoped>\n",
       "    .dataframe tbody tr th:only-of-type {\n",
       "        vertical-align: middle;\n",
       "    }\n",
       "\n",
       "    .dataframe tbody tr th {\n",
       "        vertical-align: top;\n",
       "    }\n",
       "\n",
       "    .dataframe thead th {\n",
       "        text-align: right;\n",
       "    }\n",
       "</style>\n",
       "<table border=\"1\" class=\"dataframe\">\n",
       "  <thead>\n",
       "    <tr style=\"text-align: right;\">\n",
       "      <th></th>\n",
       "      <th>fraud</th>\n",
       "      <th>income</th>\n",
       "      <th>name_email_match_score</th>\n",
       "      <th>prev_address_duration</th>\n",
       "      <th>curr_address_duration</th>\n",
       "      <th>age</th>\n",
       "      <th>days_since_request</th>\n",
       "      <th>intended_loan_amount</th>\n",
       "      <th>payment_type</th>\n",
       "      <th>zip_activity_4w</th>\n",
       "      <th>...</th>\n",
       "      <th>has_other_cards</th>\n",
       "      <th>proposed_credit_limit</th>\n",
       "      <th>foreign_request</th>\n",
       "      <th>source</th>\n",
       "      <th>session_length_in_minutes</th>\n",
       "      <th>device_os</th>\n",
       "      <th>session_auto_active</th>\n",
       "      <th>device_unique_emails_8w</th>\n",
       "      <th>device_fraud_history</th>\n",
       "      <th>month</th>\n",
       "    </tr>\n",
       "  </thead>\n",
       "  <tbody>\n",
       "    <tr>\n",
       "      <th>0</th>\n",
       "      <td>0</td>\n",
       "      <td>0.2</td>\n",
       "      <td>0.030287</td>\n",
       "      <td>-1</td>\n",
       "      <td>73</td>\n",
       "      <td>20</td>\n",
       "      <td>0.025534</td>\n",
       "      <td>-1.466167</td>\n",
       "      <td>AD</td>\n",
       "      <td>1762</td>\n",
       "      <td>...</td>\n",
       "      <td>0</td>\n",
       "      <td>200.0</td>\n",
       "      <td>0</td>\n",
       "      <td>INTERNET</td>\n",
       "      <td>4.229294</td>\n",
       "      <td>windows</td>\n",
       "      <td>0</td>\n",
       "      <td>1</td>\n",
       "      <td>0</td>\n",
       "      <td>3</td>\n",
       "    </tr>\n",
       "    <tr>\n",
       "      <th>1</th>\n",
       "      <td>0</td>\n",
       "      <td>0.2</td>\n",
       "      <td>0.138368</td>\n",
       "      <td>-1</td>\n",
       "      <td>236</td>\n",
       "      <td>10</td>\n",
       "      <td>0.008773</td>\n",
       "      <td>-1.344937</td>\n",
       "      <td>AB</td>\n",
       "      <td>745</td>\n",
       "      <td>...</td>\n",
       "      <td>0</td>\n",
       "      <td>200.0</td>\n",
       "      <td>0</td>\n",
       "      <td>INTERNET</td>\n",
       "      <td>13.421658</td>\n",
       "      <td>linux</td>\n",
       "      <td>0</td>\n",
       "      <td>1</td>\n",
       "      <td>0</td>\n",
       "      <td>1</td>\n",
       "    </tr>\n",
       "    <tr>\n",
       "      <th>2</th>\n",
       "      <td>0</td>\n",
       "      <td>0.8</td>\n",
       "      <td>0.018937</td>\n",
       "      <td>-1</td>\n",
       "      <td>85</td>\n",
       "      <td>30</td>\n",
       "      <td>0.012032</td>\n",
       "      <td>31.286179</td>\n",
       "      <td>AA</td>\n",
       "      <td>4922</td>\n",
       "      <td>...</td>\n",
       "      <td>1</td>\n",
       "      <td>200.0</td>\n",
       "      <td>0</td>\n",
       "      <td>INTERNET</td>\n",
       "      <td>3.836661</td>\n",
       "      <td>other</td>\n",
       "      <td>1</td>\n",
       "      <td>1</td>\n",
       "      <td>0</td>\n",
       "      <td>0</td>\n",
       "    </tr>\n",
       "  </tbody>\n",
       "</table>\n",
       "<p>3 rows × 31 columns</p>\n",
       "</div>"
      ],
      "text/plain": [
       "   fraud  income  name_email_match_score  prev_address_duration  \\\n",
       "0      0     0.2                0.030287                     -1   \n",
       "1      0     0.2                0.138368                     -1   \n",
       "2      0     0.8                0.018937                     -1   \n",
       "\n",
       "   curr_address_duration  age  days_since_request  intended_loan_amount  \\\n",
       "0                     73   20            0.025534             -1.466167   \n",
       "1                    236   10            0.008773             -1.344937   \n",
       "2                     85   30            0.012032             31.286179   \n",
       "\n",
       "  payment_type  zip_activity_4w  ...  has_other_cards  proposed_credit_limit  \\\n",
       "0           AD             1762  ...                0                  200.0   \n",
       "1           AB              745  ...                0                  200.0   \n",
       "2           AA             4922  ...                1                  200.0   \n",
       "\n",
       "   foreign_request    source session_length_in_minutes  device_os  \\\n",
       "0                0  INTERNET                  4.229294    windows   \n",
       "1                0  INTERNET                 13.421658      linux   \n",
       "2                0  INTERNET                  3.836661      other   \n",
       "\n",
       "   session_auto_active device_unique_emails_8w  device_fraud_history  month  \n",
       "0                    0                       1                     0      3  \n",
       "1                    0                       1                     0      1  \n",
       "2                    1                       1                     0      0  \n",
       "\n",
       "[3 rows x 31 columns]"
      ]
     },
     "execution_count": 18,
     "metadata": {},
     "output_type": "execute_result"
    }
   ],
   "source": [
    "df.drop(columns=['tx_velocity_4w'], axis=1, inplace=True)\n",
    "\n",
    "df.head(3)"
   ]
  },
  {
   "cell_type": "code",
   "execution_count": 19,
   "id": "1c4df1df",
   "metadata": {},
   "outputs": [],
   "source": [
    "payment_type = [\"AB\",\"AA\",\"AC\",\"AD\",\"AE\"]\n",
    "employment_type = [\"CA\",\"CB\",\"CF\",\"CC\",\"CD\",\"CE\",\"CG\"]\n",
    "housing_type = [\"BC\", \"BB\", \"BA\", \"BE\", \"BD\",\"BF\",\"BG\"]\n",
    "source_type = [\"TELEAPP\", \"INTERNET\"]\n",
    "device_type = [\"x11\", \"macintosh\", \"windows\", \"linux\", \"other\"]"
   ]
  },
  {
   "cell_type": "code",
   "execution_count": 20,
   "id": "01e22e13",
   "metadata": {},
   "outputs": [],
   "source": [
    "num_pipeline = Pipeline(\n",
    "    steps=[\n",
    "        (\"imputer\",SimpleImputer(strategy=\"median\")),\n",
    "        ('scaler',RobustScaler())\n",
    "    ]\n",
    ")\n",
    "\n",
    "\n",
    "cat_pipeline = Pipeline(\n",
    "    steps=[\n",
    "        (\"imputer\",SimpleImputer(strategy=\"most_frequent\")),\n",
    "        (\"encoder\",OrdinalEncoder(categories=[payment_type, employment_type, housing_type, source_type, device_type]))\n",
    "\n",
    "    ]\n",
    ")\n"
   ]
  },
  {
   "cell_type": "code",
   "execution_count": 21,
   "id": "484c1010",
   "metadata": {},
   "outputs": [],
   "source": [
    "X = df.drop(columns=['fraud'],axis=1)\n",
    "y = df['fraud']"
   ]
  },
  {
   "cell_type": "code",
   "execution_count": 22,
   "id": "c34e0052",
   "metadata": {},
   "outputs": [],
   "source": [
    "num_cols = X.select_dtypes(exclude='object').columns\n",
    "cat_cols = X.select_dtypes(include='object').columns"
   ]
  },
  {
   "cell_type": "code",
   "execution_count": 23,
   "id": "aa21cc9d",
   "metadata": {},
   "outputs": [
    {
     "name": "stdout",
     "output_type": "stream",
     "text": [
      "Index(['income', 'name_email_match_score', 'prev_address_duration',\n",
      "       'curr_address_duration', 'age', 'days_since_request',\n",
      "       'intended_loan_amount', 'zip_activity_4w', 'tx_velocity_6h',\n",
      "       'tx_velocity_24h', 'branches_used_8w', 'dob_unique_emails_4w',\n",
      "       'credit_score', 'is_free_email', 'phone_home_valid',\n",
      "       'phone_mobile_valid', 'bank_months_count', 'has_other_cards',\n",
      "       'proposed_credit_limit', 'foreign_request', 'session_length_in_minutes',\n",
      "       'session_auto_active', 'device_unique_emails_8w',\n",
      "       'device_fraud_history', 'month'],\n",
      "      dtype='object')\n"
     ]
    }
   ],
   "source": [
    "print(num_cols)"
   ]
  },
  {
   "cell_type": "code",
   "execution_count": 24,
   "id": "8cd705ad",
   "metadata": {},
   "outputs": [
    {
     "name": "stdout",
     "output_type": "stream",
     "text": [
      "Index(['payment_type', 'employment_status', 'housing_status', 'source',\n",
      "       'device_os'],\n",
      "      dtype='object')\n"
     ]
    }
   ],
   "source": [
    "print(cat_cols)"
   ]
  },
  {
   "cell_type": "code",
   "execution_count": 25,
   "id": "d78bb8e4",
   "metadata": {},
   "outputs": [],
   "source": [
    "preprocessor = ColumnTransformer(\n",
    "    [\n",
    "        (\"num_pipeline\",num_pipeline,num_cols),\n",
    "        (\"cat_pipeline\",cat_pipeline,cat_cols)\n",
    "    ]\n",
    ")"
   ]
  },
  {
   "cell_type": "code",
   "execution_count": 26,
   "id": "f133d2c2",
   "metadata": {},
   "outputs": [],
   "source": [
    "from sklearn.model_selection import train_test_split\n",
    "X_train,X_test,y_train,y_test = train_test_split(X,y,test_size=0.3,random_state=12)\n"
   ]
  },
  {
   "cell_type": "code",
   "execution_count": 27,
   "id": "b8615199",
   "metadata": {},
   "outputs": [
    {
     "data": {
      "text/html": [
       "<div>\n",
       "<style scoped>\n",
       "    .dataframe tbody tr th:only-of-type {\n",
       "        vertical-align: middle;\n",
       "    }\n",
       "\n",
       "    .dataframe tbody tr th {\n",
       "        vertical-align: top;\n",
       "    }\n",
       "\n",
       "    .dataframe thead th {\n",
       "        text-align: right;\n",
       "    }\n",
       "</style>\n",
       "<table border=\"1\" class=\"dataframe\">\n",
       "  <thead>\n",
       "    <tr style=\"text-align: right;\">\n",
       "      <th></th>\n",
       "      <th>income</th>\n",
       "      <th>name_email_match_score</th>\n",
       "      <th>prev_address_duration</th>\n",
       "      <th>curr_address_duration</th>\n",
       "      <th>age</th>\n",
       "      <th>days_since_request</th>\n",
       "      <th>intended_loan_amount</th>\n",
       "      <th>payment_type</th>\n",
       "      <th>zip_activity_4w</th>\n",
       "      <th>tx_velocity_6h</th>\n",
       "      <th>...</th>\n",
       "      <th>has_other_cards</th>\n",
       "      <th>proposed_credit_limit</th>\n",
       "      <th>foreign_request</th>\n",
       "      <th>source</th>\n",
       "      <th>session_length_in_minutes</th>\n",
       "      <th>device_os</th>\n",
       "      <th>session_auto_active</th>\n",
       "      <th>device_unique_emails_8w</th>\n",
       "      <th>device_fraud_history</th>\n",
       "      <th>month</th>\n",
       "    </tr>\n",
       "  </thead>\n",
       "  <tbody>\n",
       "    <tr>\n",
       "      <th>0</th>\n",
       "      <td>0.2</td>\n",
       "      <td>0.030287</td>\n",
       "      <td>-1</td>\n",
       "      <td>73</td>\n",
       "      <td>20</td>\n",
       "      <td>0.025534</td>\n",
       "      <td>-1.466167</td>\n",
       "      <td>AD</td>\n",
       "      <td>1762</td>\n",
       "      <td>5745.520659</td>\n",
       "      <td>...</td>\n",
       "      <td>0</td>\n",
       "      <td>200.0</td>\n",
       "      <td>0</td>\n",
       "      <td>INTERNET</td>\n",
       "      <td>4.229294</td>\n",
       "      <td>windows</td>\n",
       "      <td>0</td>\n",
       "      <td>1</td>\n",
       "      <td>0</td>\n",
       "      <td>3</td>\n",
       "    </tr>\n",
       "    <tr>\n",
       "      <th>1</th>\n",
       "      <td>0.2</td>\n",
       "      <td>0.138368</td>\n",
       "      <td>-1</td>\n",
       "      <td>236</td>\n",
       "      <td>10</td>\n",
       "      <td>0.008773</td>\n",
       "      <td>-1.344937</td>\n",
       "      <td>AB</td>\n",
       "      <td>745</td>\n",
       "      <td>6020.282729</td>\n",
       "      <td>...</td>\n",
       "      <td>0</td>\n",
       "      <td>200.0</td>\n",
       "      <td>0</td>\n",
       "      <td>INTERNET</td>\n",
       "      <td>13.421658</td>\n",
       "      <td>linux</td>\n",
       "      <td>0</td>\n",
       "      <td>1</td>\n",
       "      <td>0</td>\n",
       "      <td>1</td>\n",
       "    </tr>\n",
       "    <tr>\n",
       "      <th>2</th>\n",
       "      <td>0.8</td>\n",
       "      <td>0.018937</td>\n",
       "      <td>-1</td>\n",
       "      <td>85</td>\n",
       "      <td>30</td>\n",
       "      <td>0.012032</td>\n",
       "      <td>31.286179</td>\n",
       "      <td>AA</td>\n",
       "      <td>4922</td>\n",
       "      <td>9182.473655</td>\n",
       "      <td>...</td>\n",
       "      <td>1</td>\n",
       "      <td>200.0</td>\n",
       "      <td>0</td>\n",
       "      <td>INTERNET</td>\n",
       "      <td>3.836661</td>\n",
       "      <td>other</td>\n",
       "      <td>1</td>\n",
       "      <td>1</td>\n",
       "      <td>0</td>\n",
       "      <td>0</td>\n",
       "    </tr>\n",
       "    <tr>\n",
       "      <th>3</th>\n",
       "      <td>0.9</td>\n",
       "      <td>0.362729</td>\n",
       "      <td>176</td>\n",
       "      <td>5</td>\n",
       "      <td>30</td>\n",
       "      <td>0.012527</td>\n",
       "      <td>-1.347402</td>\n",
       "      <td>AC</td>\n",
       "      <td>1832</td>\n",
       "      <td>6381.767483</td>\n",
       "      <td>...</td>\n",
       "      <td>0</td>\n",
       "      <td>200.0</td>\n",
       "      <td>0</td>\n",
       "      <td>INTERNET</td>\n",
       "      <td>13.115193</td>\n",
       "      <td>other</td>\n",
       "      <td>1</td>\n",
       "      <td>1</td>\n",
       "      <td>0</td>\n",
       "      <td>2</td>\n",
       "    </tr>\n",
       "    <tr>\n",
       "      <th>4</th>\n",
       "      <td>0.1</td>\n",
       "      <td>0.575680</td>\n",
       "      <td>-1</td>\n",
       "      <td>16</td>\n",
       "      <td>20</td>\n",
       "      <td>0.014657</td>\n",
       "      <td>-0.778923</td>\n",
       "      <td>AB</td>\n",
       "      <td>2071</td>\n",
       "      <td>5157.228784</td>\n",
       "      <td>...</td>\n",
       "      <td>0</td>\n",
       "      <td>200.0</td>\n",
       "      <td>0</td>\n",
       "      <td>INTERNET</td>\n",
       "      <td>2.779552</td>\n",
       "      <td>other</td>\n",
       "      <td>0</td>\n",
       "      <td>1</td>\n",
       "      <td>0</td>\n",
       "      <td>4</td>\n",
       "    </tr>\n",
       "  </tbody>\n",
       "</table>\n",
       "<p>5 rows × 30 columns</p>\n",
       "</div>"
      ],
      "text/plain": [
       "   income  name_email_match_score  prev_address_duration  \\\n",
       "0     0.2                0.030287                     -1   \n",
       "1     0.2                0.138368                     -1   \n",
       "2     0.8                0.018937                     -1   \n",
       "3     0.9                0.362729                    176   \n",
       "4     0.1                0.575680                     -1   \n",
       "\n",
       "   curr_address_duration  age  days_since_request  intended_loan_amount  \\\n",
       "0                     73   20            0.025534             -1.466167   \n",
       "1                    236   10            0.008773             -1.344937   \n",
       "2                     85   30            0.012032             31.286179   \n",
       "3                      5   30            0.012527             -1.347402   \n",
       "4                     16   20            0.014657             -0.778923   \n",
       "\n",
       "  payment_type  zip_activity_4w  tx_velocity_6h  ...  has_other_cards  \\\n",
       "0           AD             1762     5745.520659  ...                0   \n",
       "1           AB              745     6020.282729  ...                0   \n",
       "2           AA             4922     9182.473655  ...                1   \n",
       "3           AC             1832     6381.767483  ...                0   \n",
       "4           AB             2071     5157.228784  ...                0   \n",
       "\n",
       "   proposed_credit_limit  foreign_request    source  \\\n",
       "0                  200.0                0  INTERNET   \n",
       "1                  200.0                0  INTERNET   \n",
       "2                  200.0                0  INTERNET   \n",
       "3                  200.0                0  INTERNET   \n",
       "4                  200.0                0  INTERNET   \n",
       "\n",
       "   session_length_in_minutes  device_os session_auto_active  \\\n",
       "0                   4.229294    windows                   0   \n",
       "1                  13.421658      linux                   0   \n",
       "2                   3.836661      other                   1   \n",
       "3                  13.115193      other                   1   \n",
       "4                   2.779552      other                   0   \n",
       "\n",
       "   device_unique_emails_8w  device_fraud_history  month  \n",
       "0                        1                     0      3  \n",
       "1                        1                     0      1  \n",
       "2                        1                     0      0  \n",
       "3                        1                     0      2  \n",
       "4                        1                     0      4  \n",
       "\n",
       "[5 rows x 30 columns]"
      ]
     },
     "execution_count": 27,
     "metadata": {},
     "output_type": "execute_result"
    }
   ],
   "source": [
    "X.head()"
   ]
  },
  {
   "cell_type": "code",
   "execution_count": 28,
   "id": "80ffeaf8",
   "metadata": {},
   "outputs": [
    {
     "data": {
      "text/plain": [
       "(15440, 30)"
      ]
     },
     "execution_count": 28,
     "metadata": {},
     "output_type": "execute_result"
    }
   ],
   "source": [
    "X_train.shape"
   ]
  },
  {
   "cell_type": "code",
   "execution_count": 29,
   "id": "7573f0fb",
   "metadata": {},
   "outputs": [
    {
     "data": {
      "text/plain": [
       "Index(['income', 'name_email_match_score', 'prev_address_duration',\n",
       "       'curr_address_duration', 'age', 'days_since_request',\n",
       "       'intended_loan_amount', 'payment_type', 'zip_activity_4w',\n",
       "       'tx_velocity_6h', 'tx_velocity_24h', 'branches_used_8w',\n",
       "       'dob_unique_emails_4w', 'employment_status', 'credit_score',\n",
       "       'is_free_email', 'housing_status', 'phone_home_valid',\n",
       "       'phone_mobile_valid', 'bank_months_count', 'has_other_cards',\n",
       "       'proposed_credit_limit', 'foreign_request', 'source',\n",
       "       'session_length_in_minutes', 'device_os', 'session_auto_active',\n",
       "       'device_unique_emails_8w', 'device_fraud_history', 'month'],\n",
       "      dtype='object')"
      ]
     },
     "execution_count": 29,
     "metadata": {},
     "output_type": "execute_result"
    }
   ],
   "source": [
    "X_train.columns"
   ]
  },
  {
   "cell_type": "code",
   "execution_count": 30,
   "id": "6945db32",
   "metadata": {},
   "outputs": [
    {
     "data": {
      "text/plain": [
       "(6618, 30)"
      ]
     },
     "execution_count": 30,
     "metadata": {},
     "output_type": "execute_result"
    }
   ],
   "source": [
    "X_test.shape"
   ]
  },
  {
   "cell_type": "code",
   "execution_count": 31,
   "id": "526779a1",
   "metadata": {},
   "outputs": [
    {
     "data": {
      "text/plain": [
       "8879     0\n",
       "13671    1\n",
       "18354    1\n",
       "716      0\n",
       "6851     0\n",
       "Name: fraud, dtype: int64"
      ]
     },
     "execution_count": 31,
     "metadata": {},
     "output_type": "execute_result"
    }
   ],
   "source": [
    "y_train.head()"
   ]
  },
  {
   "cell_type": "code",
   "execution_count": 32,
   "id": "c9648477",
   "metadata": {},
   "outputs": [
    {
     "data": {
      "text/plain": [
       "array([[ 0.2       ,  0.44223148,  0.        , ...,  0.        ,\n",
       "         1.        ,  4.        ],\n",
       "       [ 0.2       , -0.52675574, 33.        , ...,  0.        ,\n",
       "         1.        ,  3.        ],\n",
       "       [ 0.4       ,  0.06825354,  0.        , ...,  2.        ,\n",
       "         0.        ,  4.        ],\n",
       "       ...,\n",
       "       [ 0.2       ,  1.05452888,  0.        , ...,  2.        ,\n",
       "         1.        ,  2.        ],\n",
       "       [-1.        ,  0.85890103,  0.        , ...,  0.        ,\n",
       "         1.        ,  2.        ],\n",
       "       [-0.2       , -0.50604931,  0.        , ...,  0.        ,\n",
       "         1.        ,  2.        ]], shape=(6618, 30))"
      ]
     },
     "execution_count": 32,
     "metadata": {},
     "output_type": "execute_result"
    }
   ],
   "source": [
    "preprocessor.fit_transform(X_train)\n",
    "preprocessor.transform(X_test)\n"
   ]
  },
  {
   "cell_type": "code",
   "execution_count": 33,
   "id": "eaa22a25",
   "metadata": {},
   "outputs": [],
   "source": [
    "X_train = pd.DataFrame(preprocessor.fit_transform(X_train),columns=preprocessor.get_feature_names_out())\n",
    "X_test=pd.DataFrame(preprocessor.transform(X_test),columns=preprocessor.get_feature_names_out())"
   ]
  },
  {
   "cell_type": "code",
   "execution_count": null,
   "id": "43198fbe",
   "metadata": {},
   "outputs": [],
   "source": []
  },
  {
   "cell_type": "code",
   "execution_count": 34,
   "id": "7866f194",
   "metadata": {},
   "outputs": [],
   "source": [
    "from xgboost import XGBClassifier\n",
    "from sklearn.ensemble import RandomForestClassifier\n",
    "from sklearn.linear_model import LogisticRegression\n",
    "from sklearn.metrics import accuracy_score,f1_score,precision_score"
   ]
  },
  {
   "cell_type": "code",
   "execution_count": null,
   "id": "a1403452",
   "metadata": {},
   "outputs": [],
   "source": [
    "## Define the models\n",
    "\n",
    "models={\n",
    "\n",
    "    'LogisticRegression':LogisticRegression(),\n",
    "    'Randomforest':RandomForestClassifier(),\n",
    "    'xgboost':XGBClassifier()\n",
    "}"
   ]
  },
  {
   "cell_type": "code",
   "execution_count": null,
   "id": "54059847",
   "metadata": {},
   "outputs": [],
   "source": [
    "trained_model_list=[]\n",
    "model_list=[]\n",
    "acc_list=[]\n",
    "f1_list = []\n",
    "precision_list = []"
   ]
  },
  {
   "cell_type": "code",
   "execution_count": null,
   "id": "d5553d99",
   "metadata": {},
   "outputs": [],
   "source": [
    "def evaluate_model(true,pred):\n",
    "    acc=accuracy_score(true,pred)\n",
    "    f1=f1_score(true,pred)\n",
    "    p_score=precision_score(true,pred)\n",
    "\n",
    "    return acc, f1, p_score"
   ]
  },
  {
   "cell_type": "code",
   "execution_count": null,
   "id": "56a6bde5",
   "metadata": {},
   "outputs": [],
   "source": [
    "for i in range(len(list(models))):\n",
    "    model=list(models.values())[i]\n",
    "    \n",
    "    model.fit(X_train,y_train)\n",
    "\n",
    "    #make_prediction\n",
    "    y_pred=model.predict(X_test)\n",
    "\n",
    "    #this is for the validaiton\n",
    "    acc, f1, p_score = evaluate_model(y_test,y_pred)"
   ]
  },
  {
   "cell_type": "code",
   "execution_count": null,
   "id": "8a8860d4",
   "metadata": {},
   "outputs": [],
   "source": []
  }
 ],
 "metadata": {
  "kernelspec": {
   "display_name": "fruad_env",
   "language": "python",
   "name": "python3"
  },
  "language_info": {
   "codemirror_mode": {
    "name": "ipython",
    "version": 3
   },
   "file_extension": ".py",
   "mimetype": "text/x-python",
   "name": "python",
   "nbconvert_exporter": "python",
   "pygments_lexer": "ipython3",
   "version": "3.11.4"
  }
 },
 "nbformat": 4,
 "nbformat_minor": 5
}
